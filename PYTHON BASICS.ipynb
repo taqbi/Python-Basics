{
 "cells": [
  {
   "cell_type": "markdown",
   "metadata": {},
   "source": [
    "Taking Input from the user........................................................."
   ]
  },
  {
   "cell_type": "code",
   "execution_count": 50,
   "metadata": {},
   "outputs": [
    {
     "name": "stdout",
     "output_type": "stream",
     "text": [
      "Enter your name: Tawqeer ul islam\n",
      "Your name is : \n",
      "Tawqeer ul islam\n"
     ]
    }
   ],
   "source": [
    "name = input(\"Enter your name: \")\n",
    "print(\"Your name is : \")\n",
    "print(name)"
   ]
  },
  {
   "cell_type": "code",
   "execution_count": 51,
   "metadata": {},
   "outputs": [
    {
     "name": "stdout",
     "output_type": "stream",
     "text": [
      "Enter Your marks : 452\n",
      "You Scored \n",
      "90.4\n",
      "%\n"
     ]
    }
   ],
   "source": [
    "marks = int(input(\"Enter Your marks : \"))\n",
    "per  = (marks /500)*100\n",
    "print(\"You Scored \")\n",
    "print(per)\n",
    "print(\"%\")"
   ]
  },
  {
   "cell_type": "markdown",
   "metadata": {},
   "source": [
    "Formatting..........................................................................."
   ]
  },
  {
   "cell_type": "code",
   "execution_count": 52,
   "metadata": {},
   "outputs": [
    {
     "name": "stdout",
     "output_type": "stream",
     "text": [
      "hello my name is : Tawqeer ul Islam\n"
     ]
    }
   ],
   "source": [
    "print(\"hello my name is : {x}\".format(x='Tawqeer ul Islam'))"
   ]
  },
  {
   "cell_type": "code",
   "execution_count": 53,
   "metadata": {},
   "outputs": [
    {
     "name": "stdout",
     "output_type": "stream",
     "text": [
      "Hello My Name is : Tawqeer  \n"
     ]
    }
   ],
   "source": [
    "print(\"Hello My Name is : %s  \" %('Tawqeer'))"
   ]
  },
  {
   "cell_type": "code",
   "execution_count": 54,
   "metadata": {},
   "outputs": [
    {
     "name": "stdout",
     "output_type": "stream",
     "text": [
      "You have Scored               22.200 \n",
      "                              33.300\n"
     ]
    }
   ],
   "source": [
    "print(\"You have Scored %20.3f \\n%36.3f\" %(22.2,33.3))"
   ]
  },
  {
   "cell_type": "code",
   "execution_count": 55,
   "metadata": {},
   "outputs": [
    {
     "name": "stdout",
     "output_type": "stream",
     "text": [
      "Tawqeer is elder brother of Naveed \n"
     ]
    }
   ],
   "source": [
    "print(\"%s is elder brother of %s \" %('Tawqeer','Naveed'))"
   ]
  },
  {
   "cell_type": "code",
   "execution_count": 56,
   "metadata": {},
   "outputs": [
    {
     "name": "stdout",
     "output_type": "stream",
     "text": [
      "Tawqeer is elder brother of Naveed.Tawqeer's age is 22 and Naveed's age is 16\n"
     ]
    }
   ],
   "source": [
    "print(\"{a} is elder brother of {n}.{a}'s age is 22 and {n}'s age is 16\" .format(a=\"Tawqeer\",n=\"Naveed\"))"
   ]
  },
  {
   "cell_type": "markdown",
   "metadata": {},
   "source": [
    "LISTS.................................................."
   ]
  },
  {
   "cell_type": "code",
   "execution_count": 57,
   "metadata": {},
   "outputs": [],
   "source": [
    "my_list = [\"hello\", 20, \"Sangas\"]"
   ]
  },
  {
   "cell_type": "code",
   "execution_count": 58,
   "metadata": {},
   "outputs": [
    {
     "name": "stdout",
     "output_type": "stream",
     "text": [
      "['hello', 20, 'Sangas']\n"
     ]
    }
   ],
   "source": [
    "print(my_list)"
   ]
  },
  {
   "cell_type": "code",
   "execution_count": 59,
   "metadata": {},
   "outputs": [
    {
     "data": {
      "text/plain": [
       "'Sangas'"
      ]
     },
     "execution_count": 59,
     "metadata": {},
     "output_type": "execute_result"
    }
   ],
   "source": [
    "my_list[2]"
   ]
  },
  {
   "cell_type": "markdown",
   "metadata": {},
   "source": [
    "\n",
    "\n",
    "\n",
    "\n",
    "\n",
    "TO REVERSE A LIST..............................................................."
   ]
  },
  {
   "cell_type": "code",
   "execution_count": 60,
   "metadata": {},
   "outputs": [
    {
     "data": {
      "text/plain": [
       "['Sangas', 20, 'hello']"
      ]
     },
     "execution_count": 60,
     "metadata": {},
     "output_type": "execute_result"
    }
   ],
   "source": [
    "my_list[::-1]"
   ]
  },
  {
   "cell_type": "markdown",
   "metadata": {},
   "source": [
    "HIT TAB AFTER 'LISTNAME.' TO GET ALLL THE METHODS AVAILABLE................................\n",
    "\n",
    "\n"
   ]
  },
  {
   "cell_type": "code",
   "execution_count": 61,
   "metadata": {},
   "outputs": [],
   "source": [
    "my_list.append(\"list\")"
   ]
  },
  {
   "cell_type": "code",
   "execution_count": 62,
   "metadata": {},
   "outputs": [
    {
     "data": {
      "text/plain": [
       "['hello', 20, 'Sangas', 'list']"
      ]
     },
     "execution_count": 62,
     "metadata": {},
     "output_type": "execute_result"
    }
   ],
   "source": [
    "my_list"
   ]
  },
  {
   "cell_type": "code",
   "execution_count": 63,
   "metadata": {},
   "outputs": [
    {
     "data": {
      "text/plain": [
       "'Sangas'"
      ]
     },
     "execution_count": 63,
     "metadata": {},
     "output_type": "execute_result"
    }
   ],
   "source": [
    "my_list.pop(-2)"
   ]
  },
  {
   "cell_type": "markdown",
   "metadata": {},
   "source": [
    "DICTIONARIES START FROM HERE........................................................"
   ]
  },
  {
   "cell_type": "code",
   "execution_count": 64,
   "metadata": {},
   "outputs": [],
   "source": [
    "my_dict = {}"
   ]
  },
  {
   "cell_type": "code",
   "execution_count": 65,
   "metadata": {},
   "outputs": [],
   "source": [
    "my_dict = {'k1':'Taqbi','k2':123,'k3':2.0}"
   ]
  },
  {
   "cell_type": "code",
   "execution_count": 66,
   "metadata": {},
   "outputs": [
    {
     "data": {
      "text/plain": [
       "'Taqbi'"
      ]
     },
     "execution_count": 66,
     "metadata": {},
     "output_type": "execute_result"
    }
   ],
   "source": [
    "my_dict['k1']"
   ]
  },
  {
   "cell_type": "code",
   "execution_count": 67,
   "metadata": {},
   "outputs": [],
   "source": [
    "my_dict['k2']+=20"
   ]
  },
  {
   "cell_type": "code",
   "execution_count": 68,
   "metadata": {},
   "outputs": [
    {
     "data": {
      "text/plain": [
       "143"
      ]
     },
     "execution_count": 68,
     "metadata": {},
     "output_type": "execute_result"
    }
   ],
   "source": [
    "my_dict['k2']"
   ]
  },
  {
   "cell_type": "code",
   "execution_count": 69,
   "metadata": {},
   "outputs": [
    {
     "data": {
      "text/plain": [
       "dict_keys(['k1', 'k2', 'k3'])"
      ]
     },
     "execution_count": 69,
     "metadata": {},
     "output_type": "execute_result"
    }
   ],
   "source": [
    "my_dict.keys()"
   ]
  },
  {
   "cell_type": "code",
   "execution_count": 70,
   "metadata": {},
   "outputs": [
    {
     "data": {
      "text/plain": [
       "dict_values(['Taqbi', 143, 2.0])"
      ]
     },
     "execution_count": 70,
     "metadata": {},
     "output_type": "execute_result"
    }
   ],
   "source": [
    "my_dict.values()"
   ]
  },
  {
   "cell_type": "code",
   "execution_count": 71,
   "metadata": {},
   "outputs": [
    {
     "data": {
      "text/plain": [
       "dict_items([('k1', 'Taqbi'), ('k2', 143), ('k3', 2.0)])"
      ]
     },
     "execution_count": 71,
     "metadata": {},
     "output_type": "execute_result"
    }
   ],
   "source": [
    "my_dict.items()"
   ]
  },
  {
   "cell_type": "code",
   "execution_count": 72,
   "metadata": {},
   "outputs": [],
   "source": [
    "my_dict['address'] = 'Sangas'"
   ]
  },
  {
   "cell_type": "code",
   "execution_count": 73,
   "metadata": {},
   "outputs": [
    {
     "data": {
      "text/plain": [
       "dict_items([('k1', 'Taqbi'), ('k2', 143), ('k3', 2.0), ('address', 'Sangas')])"
      ]
     },
     "execution_count": 73,
     "metadata": {},
     "output_type": "execute_result"
    }
   ],
   "source": [
    "my_dict.items()"
   ]
  },
  {
   "cell_type": "code",
   "execution_count": 74,
   "metadata": {},
   "outputs": [
    {
     "data": {
      "text/plain": [
       "{'k1': 'Taqbi', 'k2': 143, 'k3': 2.0, 'address': 'Sangas'}"
      ]
     },
     "execution_count": 74,
     "metadata": {},
     "output_type": "execute_result"
    }
   ],
   "source": [
    "my_dict"
   ]
  },
  {
   "cell_type": "code",
   "execution_count": 75,
   "metadata": {},
   "outputs": [
    {
     "data": {
      "text/plain": [
       "'ibqaT'"
      ]
     },
     "execution_count": 75,
     "metadata": {},
     "output_type": "execute_result"
    }
   ],
   "source": [
    "my_dict['k1'][::-1]"
   ]
  },
  {
   "cell_type": "code",
   "execution_count": 76,
   "metadata": {},
   "outputs": [],
   "source": [
    "dict = {1:{2:{3:'hello'}}}"
   ]
  },
  {
   "cell_type": "code",
   "execution_count": 77,
   "metadata": {},
   "outputs": [],
   "source": [
    "message = dict[1][2][3]"
   ]
  },
  {
   "cell_type": "code",
   "execution_count": 78,
   "metadata": {},
   "outputs": [
    {
     "name": "stdout",
     "output_type": "stream",
     "text": [
      "hello\n"
     ]
    }
   ],
   "source": [
    "print(message)"
   ]
  },
  {
   "cell_type": "code",
   "execution_count": 79,
   "metadata": {},
   "outputs": [],
   "source": [
    "dict[4] = 'kulgam'"
   ]
  },
  {
   "cell_type": "code",
   "execution_count": 80,
   "metadata": {},
   "outputs": [],
   "source": [
    "dict.update()"
   ]
  },
  {
   "cell_type": "code",
   "execution_count": 81,
   "metadata": {},
   "outputs": [
    {
     "data": {
      "text/plain": [
       "'kulgam'"
      ]
     },
     "execution_count": 81,
     "metadata": {},
     "output_type": "execute_result"
    }
   ],
   "source": [
    "dict.pop(4)"
   ]
  },
  {
   "cell_type": "code",
   "execution_count": 82,
   "metadata": {},
   "outputs": [
    {
     "data": {
      "text/plain": [
       "{1: {2: {3: 'hello'}}}"
      ]
     },
     "execution_count": 82,
     "metadata": {},
     "output_type": "execute_result"
    }
   ],
   "source": [
    "dict"
   ]
  },
  {
   "cell_type": "code",
   "execution_count": 83,
   "metadata": {},
   "outputs": [
    {
     "data": {
      "text/plain": [
       "{1: {2: {3: 'hello'}}}"
      ]
     },
     "execution_count": 83,
     "metadata": {},
     "output_type": "execute_result"
    }
   ],
   "source": [
    "dict"
   ]
  },
  {
   "cell_type": "markdown",
   "metadata": {},
   "source": [
    "Tuples..................................................................."
   ]
  },
  {
   "cell_type": "code",
   "execution_count": 84,
   "metadata": {},
   "outputs": [],
   "source": [
    "t =  ('hello',12)"
   ]
  },
  {
   "cell_type": "code",
   "execution_count": 85,
   "metadata": {},
   "outputs": [
    {
     "data": {
      "text/plain": [
       "12"
      ]
     },
     "execution_count": 85,
     "metadata": {},
     "output_type": "execute_result"
    }
   ],
   "source": [
    "t[1]"
   ]
  },
  {
   "cell_type": "code",
   "execution_count": 86,
   "metadata": {},
   "outputs": [
    {
     "data": {
      "text/plain": [
       "13"
      ]
     },
     "execution_count": 86,
     "metadata": {},
     "output_type": "execute_result"
    }
   ],
   "source": [
    "t[1] +1"
   ]
  },
  {
   "cell_type": "code",
   "execution_count": 87,
   "metadata": {},
   "outputs": [
    {
     "data": {
      "text/plain": [
       "0"
      ]
     },
     "execution_count": 87,
     "metadata": {},
     "output_type": "execute_result"
    }
   ],
   "source": [
    "t.count(1)"
   ]
  },
  {
   "cell_type": "code",
   "execution_count": 88,
   "metadata": {},
   "outputs": [
    {
     "data": {
      "text/plain": [
       "1"
      ]
     },
     "execution_count": 88,
     "metadata": {},
     "output_type": "execute_result"
    }
   ],
   "source": [
    "t.count(12)"
   ]
  },
  {
   "cell_type": "code",
   "execution_count": 89,
   "metadata": {},
   "outputs": [
    {
     "data": {
      "text/plain": [
       "0"
      ]
     },
     "execution_count": 89,
     "metadata": {},
     "output_type": "execute_result"
    }
   ],
   "source": [
    "t.index('hello')"
   ]
  },
  {
   "cell_type": "markdown",
   "metadata": {},
   "source": [
    "Files"
   ]
  },
  {
   "cell_type": "code",
   "execution_count": 90,
   "metadata": {},
   "outputs": [
    {
     "name": "stdout",
     "output_type": "stream",
     "text": [
      "Overwriting a.txt\n"
     ]
    }
   ],
   "source": [
    "%%writefile a.txt\n",
    "\"Hello There\"\n"
   ]
  },
  {
   "cell_type": "code",
   "execution_count": 91,
   "metadata": {},
   "outputs": [
    {
     "data": {
      "text/plain": [
       "'\"Hello There\"'"
      ]
     },
     "execution_count": 91,
     "metadata": {},
     "output_type": "execute_result"
    }
   ],
   "source": [
    "a = open('a.txt')\n",
    "a.read()"
   ]
  },
  {
   "cell_type": "code",
   "execution_count": 92,
   "metadata": {},
   "outputs": [
    {
     "data": {
      "text/plain": [
       "''"
      ]
     },
     "execution_count": 92,
     "metadata": {},
     "output_type": "execute_result"
    }
   ],
   "source": [
    "a.read()"
   ]
  },
  {
   "cell_type": "code",
   "execution_count": 93,
   "metadata": {},
   "outputs": [
    {
     "data": {
      "text/plain": [
       "0"
      ]
     },
     "execution_count": 93,
     "metadata": {},
     "output_type": "execute_result"
    }
   ],
   "source": [
    "a.seek(0)"
   ]
  },
  {
   "cell_type": "code",
   "execution_count": 94,
   "metadata": {},
   "outputs": [
    {
     "data": {
      "text/plain": [
       "['\"Hello There\"']"
      ]
     },
     "execution_count": 94,
     "metadata": {},
     "output_type": "execute_result"
    }
   ],
   "source": [
    "a.readlines()"
   ]
  },
  {
   "cell_type": "markdown",
   "metadata": {},
   "source": [
    "Sets................."
   ]
  },
  {
   "cell_type": "code",
   "execution_count": 95,
   "metadata": {},
   "outputs": [],
   "source": [
    "x = set()"
   ]
  },
  {
   "cell_type": "code",
   "execution_count": 96,
   "metadata": {},
   "outputs": [],
   "source": [
    "x.add(2)"
   ]
  },
  {
   "cell_type": "code",
   "execution_count": 97,
   "metadata": {},
   "outputs": [
    {
     "data": {
      "text/plain": [
       "{2}"
      ]
     },
     "execution_count": 97,
     "metadata": {},
     "output_type": "execute_result"
    }
   ],
   "source": [
    "x"
   ]
  },
  {
   "cell_type": "code",
   "execution_count": 98,
   "metadata": {},
   "outputs": [
    {
     "data": {
      "text/plain": [
       "2"
      ]
     },
     "execution_count": 98,
     "metadata": {},
     "output_type": "execute_result"
    }
   ],
   "source": [
    "x.pop()"
   ]
  },
  {
   "cell_type": "code",
   "execution_count": 99,
   "metadata": {},
   "outputs": [
    {
     "name": "stdout",
     "output_type": "stream",
     "text": [
      "{1, 2, 4, 5}\n",
      "[5, 2, 1, 2, 4, 5]\n"
     ]
    }
   ],
   "source": [
    "l = [5,2,1,2,4,5]\n",
    "x = set(l)\n",
    "print(x)\n",
    "print(l)"
   ]
  },
  {
   "cell_type": "code",
   "execution_count": 100,
   "metadata": {},
   "outputs": [],
   "source": [
    "b = True"
   ]
  },
  {
   "cell_type": "code",
   "execution_count": 101,
   "metadata": {},
   "outputs": [
    {
     "name": "stdout",
     "output_type": "stream",
     "text": [
      "False\n",
      "None\n"
     ]
    }
   ],
   "source": [
    "b = 2>5\n",
    "print(b)\n",
    "b = None\n",
    "print(b)"
   ]
  },
  {
   "cell_type": "code",
   "execution_count": 102,
   "metadata": {},
   "outputs": [],
   "source": [
    "#Chain COmparisions and use of AND, OR"
   ]
  },
  {
   "cell_type": "code",
   "execution_count": 103,
   "metadata": {},
   "outputs": [
    {
     "data": {
      "text/plain": [
       "False"
      ]
     },
     "execution_count": 103,
     "metadata": {},
     "output_type": "execute_result"
    }
   ],
   "source": [
    "a = 2\n",
    "b = 3\n",
    "c = 5\n",
    "a < 2 and b > 4 "
   ]
  },
  {
   "cell_type": "code",
   "execution_count": 104,
   "metadata": {},
   "outputs": [
    {
     "data": {
      "text/plain": [
       "True"
      ]
     },
     "execution_count": 104,
     "metadata": {},
     "output_type": "execute_result"
    }
   ],
   "source": [
    "b == 3 or c > 3"
   ]
  },
  {
   "cell_type": "markdown",
   "metadata": {},
   "source": [
    "Control Statements............................................................"
   ]
  },
  {
   "cell_type": "code",
   "execution_count": 105,
   "metadata": {},
   "outputs": [
    {
     "name": "stdout",
     "output_type": "stream",
     "text": [
      "Else is executed\n"
     ]
    }
   ],
   "source": [
    "a = 2\n",
    "s = 'hello'\n",
    "if s == 10:\n",
    "    print(\"a is greater than 1\")\n",
    "elif False:\n",
    "    print(\"This one is also executed\")\n",
    "elif s is 'Hello':\n",
    "    print(\" S is Hello\")\n",
    "else:\n",
    "    print(\"Else is executed\")\n",
    "    "
   ]
  },
  {
   "cell_type": "markdown",
   "metadata": {},
   "source": [
    "LOOPS................................................"
   ]
  },
  {
   "cell_type": "code",
   "execution_count": 106,
   "metadata": {},
   "outputs": [
    {
     "name": "stdout",
     "output_type": "stream",
     "text": [
      "5\n",
      "6\n",
      "7\n",
      "8\n",
      "10\n"
     ]
    }
   ],
   "source": [
    "l = [5,6,7,8,10]\n",
    "for i in l:\n",
    "    print(i)"
   ]
  },
  {
   "cell_type": "code",
   "execution_count": 107,
   "metadata": {},
   "outputs": [
    {
     "name": "stdout",
     "output_type": "stream",
     "text": [
      "t1 = 2  t2 = 3\n",
      "t1 = 4  t2 = 3\n",
      "t1 = 5  t2 = 5\n"
     ]
    }
   ],
   "source": [
    "tup =  [(2,3),(4,3),(5,5)]\n",
    "for (t1,t2) in tup:\n",
    "    print(\"t1 = {x1}  t2 = {x2}\".format(x1 = t1,x2 = t2))\n"
   ]
  },
  {
   "cell_type": "code",
   "execution_count": 108,
   "metadata": {},
   "outputs": [
    {
     "name": "stdout",
     "output_type": "stream",
     "text": [
      " k1,1\n",
      "k2,2\n",
      "k3,3\n"
     ]
    }
   ],
   "source": [
    "dic = {' k1':1,'k2':2,'k3':3}\n",
    "for i,j in dic.items():\n",
    "    print(\"{a},{b}\".format(a=i,b=j))"
   ]
  },
  {
   "cell_type": "markdown",
   "metadata": {},
   "source": [
    "Functions.................................................."
   ]
  },
  {
   "cell_type": "code",
   "execution_count": 109,
   "metadata": {},
   "outputs": [],
   "source": [
    "import math\n",
    "def check_prime(n):\n",
    "    if n % 2 == 0:\n",
    "        print(\"{a} is not prime.\".format(a = n))\n",
    "        return\n",
    "    for i in range(3, int(math.sqrt(n))+1, 2):\n",
    "        if n%i==0:\n",
    "            print(\"{a} is not prime.\".format(a = n))\n",
    "            break\n",
    "    else:\n",
    "        print(\"{a} is prime\".format(a = n))\n",
    "        "
   ]
  },
  {
   "cell_type": "code",
   "execution_count": 110,
   "metadata": {},
   "outputs": [
    {
     "name": "stdout",
     "output_type": "stream",
     "text": [
      "397 is prime\n"
     ]
    }
   ],
   "source": [
    "check_prime(397)"
   ]
  },
  {
   "cell_type": "markdown",
   "metadata": {},
   "source": [
    "Lambda Expressons.................................."
   ]
  },
  {
   "cell_type": "code",
   "execution_count": 111,
   "metadata": {},
   "outputs": [],
   "source": [
    "mul_5 = lambda x: x*5"
   ]
  },
  {
   "cell_type": "code",
   "execution_count": 112,
   "metadata": {},
   "outputs": [
    {
     "data": {
      "text/plain": [
       "20"
      ]
     },
     "execution_count": 112,
     "metadata": {},
     "output_type": "execute_result"
    }
   ],
   "source": [
    "mul_5(4)"
   ]
  },
  {
   "cell_type": "code",
   "execution_count": 113,
   "metadata": {},
   "outputs": [
    {
     "data": {
      "text/plain": [
       "'Hey! I want to multiply this string by 5. Hey! I want to multiply this string by 5. Hey! I want to multiply this string by 5. Hey! I want to multiply this string by 5. Hey! I want to multiply this string by 5. '"
      ]
     },
     "execution_count": 113,
     "metadata": {},
     "output_type": "execute_result"
    }
   ],
   "source": [
    "mul_5(\"Hey! I want to multiply this string by 5. \")"
   ]
  },
  {
   "cell_type": "code",
   "execution_count": 114,
   "metadata": {},
   "outputs": [],
   "source": [
    "length = lambda string: len(string)"
   ]
  },
  {
   "cell_type": "code",
   "execution_count": 115,
   "metadata": {},
   "outputs": [
    {
     "data": {
      "text/plain": [
       "53"
      ]
     },
     "execution_count": 115,
     "metadata": {},
     "output_type": "execute_result"
    }
   ],
   "source": [
    "length(\"Can you calculate the number of characters i contain?\")"
   ]
  },
  {
   "cell_type": "code",
   "execution_count": 116,
   "metadata": {},
   "outputs": [
    {
     "data": {
      "text/plain": [
       "6"
      ]
     },
     "execution_count": 116,
     "metadata": {},
     "output_type": "execute_result"
    }
   ],
   "source": [
    "import math\n",
    "hcf = lambda x,y: math.gcd(x,y)\n",
    "hcf(368268,682686)\n",
    "    "
   ]
  },
  {
   "cell_type": "markdown",
   "metadata": {},
   "source": [
    "Object Oriented Programming...................................................................."
   ]
  },
  {
   "cell_type": "code",
   "execution_count": 117,
   "metadata": {},
   "outputs": [],
   "source": [
    "class Student(object):\n",
    "    college = \"NITJ\"\n",
    "    \n",
    "    def __init__(self,r,n,g):\n",
    "        self.roll_no = r\n",
    "        self.name = n\n",
    "        self.gender = g "
   ]
  },
  {
   "cell_type": "code",
   "execution_count": 118,
   "metadata": {},
   "outputs": [],
   "source": [
    "s1 = Student(1,\"SAM\",\"male\")\n",
    "s2 = Student(2, \"Taq\", \"male\")"
   ]
  },
  {
   "cell_type": "code",
   "execution_count": 119,
   "metadata": {},
   "outputs": [
    {
     "name": "stdout",
     "output_type": "stream",
     "text": [
      "Student 1 data : 1  SAM  male \n",
      "Student 2 data : 2  Taq  male \n"
     ]
    }
   ],
   "source": [
    "print(\"Student 1 data : {a}  {b}  {c} \".format(a = s1.roll_no, b = s1.name, c = s1.gender))\n",
    "print(\"Student 2 data : {a}  {b}  {c} \".format(a = s2.roll_no, b = s2.name, c = s2.gender))"
   ]
  },
  {
   "cell_type": "code",
   "execution_count": 120,
   "metadata": {},
   "outputs": [],
   "source": [
    "class Room(object):\n",
    "    #class object attribute\n",
    "    height = 12\n",
    "    def  __init__(self,l,b):\n",
    "        self.len = l\n",
    "        self.bre = b\n",
    "    def area(self):\n",
    "        return (self.len)*(self.bre)\n",
    "    def vol(self):\n",
    "        v = Room.height * self.area()\n",
    "        return v\n",
    "        \n",
    "        "
   ]
  },
  {
   "cell_type": "code",
   "execution_count": 121,
   "metadata": {},
   "outputs": [],
   "source": [
    "r1 = Room(12,14)\n",
    "r2 = Room(10,15)"
   ]
  },
  {
   "cell_type": "code",
   "execution_count": 122,
   "metadata": {},
   "outputs": [
    {
     "data": {
      "text/plain": [
       "168"
      ]
     },
     "execution_count": 122,
     "metadata": {},
     "output_type": "execute_result"
    }
   ],
   "source": [
    "r1.area()"
   ]
  },
  {
   "cell_type": "code",
   "execution_count": 123,
   "metadata": {},
   "outputs": [
    {
     "data": {
      "text/plain": [
       "2016"
      ]
     },
     "execution_count": 123,
     "metadata": {},
     "output_type": "execute_result"
    }
   ],
   "source": [
    "r1.vol()"
   ]
  },
  {
   "cell_type": "code",
   "execution_count": 124,
   "metadata": {},
   "outputs": [
    {
     "data": {
      "text/plain": [
       "150"
      ]
     },
     "execution_count": 124,
     "metadata": {},
     "output_type": "execute_result"
    }
   ],
   "source": [
    "r2.area()"
   ]
  },
  {
   "cell_type": "code",
   "execution_count": 125,
   "metadata": {},
   "outputs": [
    {
     "data": {
      "text/plain": [
       "1800"
      ]
     },
     "execution_count": 125,
     "metadata": {},
     "output_type": "execute_result"
    }
   ],
   "source": [
    "r2.vol()"
   ]
  },
  {
   "cell_type": "markdown",
   "metadata": {},
   "source": [
    "Inheritance...................................."
   ]
  },
  {
   "cell_type": "code",
   "execution_count": 126,
   "metadata": {},
   "outputs": [
    {
     "name": "stdout",
     "output_type": "stream",
     "text": [
      " called dog\n",
      "Whoooo Whoooo\n",
      "Food\n",
      "called dog food\n"
     ]
    }
   ],
   "source": [
    "#Creating the animal class\n",
    "class Animal(object):\n",
    "    def __init__():\n",
    "        print(\"I am an Animal\")\n",
    "    def eats(self):\n",
    "        print(\"Food\")\n",
    "#Creating the dog class\n",
    "class Dog(Animal):\n",
    "    def __init__(self):\n",
    "        #Animal.__init__(self)\n",
    "        print(\" called dog\")\n",
    "    def bark(self):\n",
    "        print(\"Whoooo Whoooo\")\n",
    "    def eats(self):\n",
    "        Animal.eats(self)\n",
    "        print(\"called dog food\")\n",
    "#Creating objects\n",
    "d1 = Dog()\n",
    "d1.bark()\n",
    "d1.eats()\n",
    "        \n",
    "        "
   ]
  },
  {
   "cell_type": "markdown",
   "metadata": {},
   "source": [
    "Special Methods................................................"
   ]
  },
  {
   "cell_type": "code",
   "execution_count": 127,
   "metadata": {},
   "outputs": [
    {
     "name": "stdout",
     "output_type": "stream",
     "text": [
      "Book created\n",
      "Name : python, Author : Taq bi, pages  : 120 \n"
     ]
    }
   ],
   "source": [
    "class Book(object):\n",
    "    def __init__(self,n,a,p):\n",
    "        self.name = n\n",
    "        self.author= a\n",
    "        self.pages = p\n",
    "        print(\"Book created\")\n",
    "    \n",
    "    #Special method for printing object\n",
    "    def __str__(self):\n",
    "        return(\"Name : %s, Author : %s, pages  : %s \"%(self.name,self.author,self.pages))\n",
    "\n",
    "obj = Book(\"python\",\"Taq bi\",120)\n",
    "print(obj)"
   ]
  },
  {
   "cell_type": "markdown",
   "metadata": {},
   "source": [
    "Errors and Exceptions............................................................................................"
   ]
  },
  {
   "cell_type": "code",
   "execution_count": 128,
   "metadata": {},
   "outputs": [
    {
     "name": "stdout",
     "output_type": "stream",
     "text": [
      "There is a type Error\n",
      "Finally always gets executed\n"
     ]
    }
   ],
   "source": [
    "try:\n",
    "    2 +\"hello\"\n",
    "except TypeError:\n",
    "    print(\"There is a type Error\")\n",
    "finally:\n",
    "    print(\"Finally always gets executed\")"
   ]
  },
  {
   "cell_type": "code",
   "execution_count": 129,
   "metadata": {},
   "outputs": [
    {
     "name": "stdout",
     "output_type": "stream",
     "text": [
      "File wriiten Succesful\n"
     ]
    }
   ],
   "source": [
    "try:\n",
    "    f = open(\"filename\",\"w\")  #A file of the anme filenmae will be created and opened in write mode\n",
    "    f.write(\"Hello there,I am writing to the file\")\n",
    "except:\n",
    "    print(\"Writing to the File Unsuccesful\")\n",
    "else:\n",
    "    print(\"File wriiten Succesful\")"
   ]
  },
  {
   "cell_type": "code",
   "execution_count": 130,
   "metadata": {},
   "outputs": [
    {
     "name": "stdout",
     "output_type": "stream",
     "text": [
      "Writing to the File Unsuccesful\n"
     ]
    }
   ],
   "source": [
    "try:\n",
    "    f = open(\"filename\",\"r\")  #Here we are opening the file in read mode\n",
    "    f.write(\"Hello there,I am writing to the file\")\n",
    "except IOError:\n",
    "    print(\"Writing to the File Unsuccesful\")\n",
    "\n",
    "else:\n",
    "    print(\"File wriiten Succesful\")"
   ]
  },
  {
   "cell_type": "code",
   "execution_count": 131,
   "metadata": {},
   "outputs": [
    {
     "name": "stdout",
     "output_type": "stream",
     "text": [
      "Enter an Integer : tar\n",
      "Please enter an Integer : \n",
      "Enter an Integer : 4a\n",
      "Please enter an Integer : \n",
      "Enter an Integer : 45\n",
      "Integer Entered is : 45\n"
     ]
    }
   ],
   "source": [
    "while True:\n",
    "    try:\n",
    "        num = int(input(\"Enter an Integer : \"))\n",
    "    except:\n",
    "        print(\"Please enter an Integer : \")\n",
    "        continue\n",
    "    else:\n",
    "        print(\"Integer Entered is : %s\"%(num) )\n",
    "        break\n",
    "    \n",
    "    "
   ]
  },
  {
   "cell_type": "markdown",
   "metadata": {},
   "source": [
    "Modules............................................................"
   ]
  },
  {
   "cell_type": "code",
   "execution_count": 132,
   "metadata": {},
   "outputs": [
    {
     "data": {
      "text/plain": [
       "2.2847319317591723"
      ]
     },
     "execution_count": 132,
     "metadata": {},
     "output_type": "execute_result"
    }
   ],
   "source": [
    "import math\n",
    "math.sqrt(5.22)"
   ]
  },
  {
   "cell_type": "code",
   "execution_count": 133,
   "metadata": {},
   "outputs": [
    {
     "data": {
      "text/plain": [
       "21.2602916254693"
      ]
     },
     "execution_count": 133,
     "metadata": {},
     "output_type": "execute_result"
    }
   ],
   "source": [
    "from math import sqrt\n",
    "sqrt(452)"
   ]
  },
  {
   "cell_type": "markdown",
   "metadata": {},
   "source": [
    "Built_In Functions......................................................."
   ]
  },
  {
   "cell_type": "code",
   "execution_count": 134,
   "metadata": {},
   "outputs": [
    {
     "name": "stdout",
     "output_type": "stream",
     "text": [
      "[90.0, 72.8, 91.8, 84.2, 79.80000000000001, 46.800000000000004]\n"
     ]
    }
   ],
   "source": [
    "def per(m):\n",
    "    return m/500*100\n",
    "marks = [450,364,459,421,399,234]\n",
    "res = map(per,marks)\n",
    "print(list(res))"
   ]
  },
  {
   "cell_type": "code",
   "execution_count": 135,
   "metadata": {},
   "outputs": [],
   "source": [
    "a = map(lambda m: m/500*100,marks)"
   ]
  },
  {
   "cell_type": "markdown",
   "metadata": {},
   "source": [
    "REDUCE...................................................................."
   ]
  },
  {
   "cell_type": "code",
   "execution_count": 136,
   "metadata": {},
   "outputs": [
    {
     "data": {
      "text/plain": [
       "209"
      ]
     },
     "execution_count": 136,
     "metadata": {},
     "output_type": "execute_result"
    }
   ],
   "source": [
    "from functools import reduce\n",
    "def sum(x,y):\n",
    "    return x+y\n",
    "costs = [20,25,21,32,55,56]\n",
    "reduce(sum,costs)"
   ]
  },
  {
   "cell_type": "code",
   "execution_count": 137,
   "metadata": {},
   "outputs": [
    {
     "data": {
      "image/jpeg": "[encoded data removed]",
      "text/plain": [
       "<IPython.core.display.Image object>"
      ]
     },
     "execution_count": 137,
     "metadata": {},
     "output_type": "execute_result"
    }
   ],
   "source": [
    "from IPython.display import Image\n",
    "Image(r\"E:\\Pictures\\Kashmir as it was\\4th Bridge Srinagar 1911 Kashmir...jpg\")"
   ]
  },
  {
   "cell_type": "code",
   "execution_count": 138,
   "metadata": {},
   "outputs": [
    {
     "name": "stdout",
     "output_type": "stream",
     "text": [
      "[2, 24, 90]\n"
     ]
    }
   ],
   "source": [
    "lst = [2,3,9,45,24,63,90,55]\n",
    "def isEven(m):\n",
    "    if m%2 is 0: \n",
    "        return True\n",
    "    else:\n",
    "        return False\n",
    "res = filter(isEven,lst)\n",
    "print(list(res))"
   ]
  },
  {
   "cell_type": "code",
   "execution_count": 139,
   "metadata": {},
   "outputs": [
    {
     "name": "stdout",
     "output_type": "stream",
     "text": [
      "[(1, 2), (3, 4), (5, 6), (7, 8)]\n"
     ]
    }
   ],
   "source": [
    "l1 = [1,3,5,7]\n",
    "l2 = [2,4,6,8]\n",
    "res = zip(l1,l2)\n",
    "print(list(res))"
   ]
  },
  {
   "cell_type": "code",
   "execution_count": 140,
   "metadata": {},
   "outputs": [
    {
     "name": "stdout",
     "output_type": "stream",
     "text": [
      "[('z', 'a'), ('x', 'b')]\n"
     ]
    }
   ],
   "source": [
    "d1 ={'z':1,\"x\":2}\n",
    "d2 = {'a':5,'b':7}\n",
    "res = zip(d1,d2)\n",
    "print(list(res))"
   ]
  },
  {
   "cell_type": "code",
   "execution_count": 141,
   "metadata": {},
   "outputs": [
    {
     "name": "stdout",
     "output_type": "stream",
     "text": [
      "Tawqeer is at 0\n",
      "Aabid is at 1\n",
      "Gazi is at 2\n"
     ]
    }
   ],
   "source": [
    "lst = ['Tawqeer', 'Aabid','Gazi']\n",
    "for i,item in enumerate(lst):\n",
    "    print(\"{a} is at {b}\".format(a = item,b = i))"
   ]
  },
  {
   "cell_type": "code",
   "execution_count": 142,
   "metadata": {},
   "outputs": [
    {
     "name": "stdout",
     "output_type": "stream",
     "text": [
      "True\n",
      "False\n",
      "True\n"
     ]
    }
   ],
   "source": [
    "lst = [True,True,True]\n",
    "fal = [True,True,False]\n",
    "print(all(lst))\n",
    "print(all(fal))\n",
    "print(any(fal))"
   ]
  },
  {
   "cell_type": "code",
   "execution_count": 143,
   "metadata": {},
   "outputs": [
    {
     "data": {
      "text/plain": [
       "(2+5j)"
      ]
     },
     "execution_count": 143,
     "metadata": {},
     "output_type": "execute_result"
    }
   ],
   "source": [
    "complex(2,5)"
   ]
  },
  {
   "cell_type": "code",
   "execution_count": 144,
   "metadata": {},
   "outputs": [
    {
     "data": {
      "text/plain": [
       "(5+2j)"
      ]
     },
     "execution_count": 144,
     "metadata": {},
     "output_type": "execute_result"
    }
   ],
   "source": [
    "complex('5+2j')"
   ]
  },
  {
   "cell_type": "markdown",
   "metadata": {},
   "source": [
    "Decorators.............................................................."
   ]
  },
  {
   "cell_type": "code",
   "execution_count": 145,
   "metadata": {},
   "outputs": [
    {
     "name": "stdout",
     "output_type": "stream",
     "text": [
      "{}\n"
     ]
    }
   ],
   "source": [
    "s = \"This is a global variable \"\n",
    "def fun():\n",
    "    print(locals())\n",
    "    \n",
    "fun()"
   ]
  },
  {
   "cell_type": "code",
   "execution_count": 146,
   "metadata": {},
   "outputs": [
    {
     "name": "stdout",
     "output_type": "stream",
     "text": [
      "{'__name__': '__main__', '__doc__': 'Automatically created module for IPython interactive environment', '__package__': None, '__loader__': None, '__spec__': None, '__builtin__': <module 'builtins' (built-in)>, '__builtins__': <module 'builtins' (built-in)>, '_ih': ['', 'import re ', 'import re \\npattern = \"a\"\\ntext = \"Hi! There how are you doing.My name is Jarvis and I am your assistant for the course.tell me if you have any problem so far\"\\nre.findall(pattern,text)', 'import re \\npattern = \"a\"\\ntext = \"Hi! There how are you doing.My name is Jarvis and I am your assistant for the course.tell me if you have any problem so far\"\\nre.findall(pattern,text)\\nre.split(\\' \\',text)', 'import re \\npattern = \"a\"\\ntext = \"Hi! There how are you doing.My name is Jarvis and I am your assistant for the course.tell me if you have any problem so far\"\\nprint(re.findall(pattern,text))\\nprint(re.split(\\' \\',text))', 'import re \\npattern = \"a\"\\ntext = \"Hi! There how are you doing. My name is Jarvis and I am your assistant for the course. Tell me if you have any problem so far\"\\nprint(re.findall(pattern,text))\\nprint(re.split(\\' \\',text))', \"import re\\nall_names = ['tawqeer','umaid','nadeem', 'rohit', 'shobit', 'vikas']\\nnames = ['tawqeer', 'umaid', 'nadeem']\\nre.search(names,all_names)\", \"import re\\nall_names = 'tawqeer umaid nadeem rohit shobit vikas'\\nnames = ['tawqeer', 'umaid', 'nadeem']\\nre.search(names,all_names)\", \"import re\\nall_names = 'tawqeer umaid nadeem rohit shobit vikas'\\nnames = ['tawqeer', 'umaid', 'nadeem']\\nre.search(names,all_names)\", \"import re\\nall_names = 'tawqeer umaid nadeem rohit shobit vikas'\\nnames = ['tawqeer'+, 'umaid'+, 'nadeem'+]\\nre.search(names,all_names)\", \"import re\\nall_names = 'tawqeer umaid nadeem rohit shobit vikas'\\nnames = ['tawqeer+', 'umaid+', 'nadeem+']\\nre.search(names,all_names)\", \"import re\\nall_names = 'tawqeer umaid nadeem rohit shobit vikas'\\nnames = ['[tawqeer]+', '[umaid]+', '[nadeem]+']\\nre.search(names,all_names)\", \"import re\\nall_names = 'tawqeer umaid nadeem rohit shobit vikas'\\nnames = ['[a-z]+', '[A-Z]+', '[a-zA-Z]+']\\nre.search(names,all_names)\", \"import re\\nall_names = 'tawqeer umaid nadeem rohit shobit vikas'\\nnames = ['[a-z]+', '[A-Z]+', '[a-zA-Z]+']\\nre.search(names,all_names)\", \"import re\\nall_names = 'tawqeer umaid nadeem rohit shobit vikas'\\nnames = ['[a-z]+', '[A-Z]+', '[a-zA-Z]+']\\nre.ifnd(names,all_names)\", \"import re\\nall_names = 'tawqeer umaid nadeem rohit shobit vikas'\\nnames = ['[a-z]+', '[A-Z]+', '[a-zA-Z]+']\\nre.find(names,all_names)\", \"import re\\nall_names = 'tawqeer umaid nadeem rohit shobit vikas'\\nnames = ['[a-z]+', '[A-Z]+', '[a-zA-Z]+']\\nre.match(names,all_names)\", \"import re\\nall_names = 'tawqeer umaid nadeem rohit shobit vikas'\\nnames = ['[a-z]+', '[A-Z]+', '[a-zA-Z]+']\\nmulti_re_find(names,all_names)\", \"import re\\nall_names = 'tawqeer umaid nadeem rohit shobit vikas'\\nnames = ['[a-z]+', '[A-Z]+', '[a-zA-Z]+']\\nre.multi_re_find(names,all_names)\", \"from re import multi_re_find\\nall_names = 'tawqeer umaid nadeem rohit shobit vikas'\\nnames = ['[a-z]+', '[A-Z]+', '[a-zA-Z]+']\\nre.multi_re_find(names,all_names)\", \"from re import multi_re_find\\nall_names = 'tawqeer umaid nadeem rohit shobit vikas'\\nnames = ['[a-z]+', '[A-Z]+', '[a-zA-Z]+']\\nre.findall(names,all_names)\", \"import re\\nall_names = 'tawqeer umaid nadeem rohit shobit vikas'\\nnames = ['[a-z]+', '[A-Z]+', '[a-zA-Z]+']\\nre.findall(names,all_names)\", \"import re\\nall_names = 'tawqeer umaid nadeem rohit shobit vikas'\\nnames = [r'[a-z]+', r'[A-Z]+', r'[a-zA-Z]+']\\nre.findall(names,all_names)\", \"import re\\nall_names = 'tawqeer umaid nadeem rohit shobit vikas'\\nnames = '[a-z]+', r'[A-Z]+', r'[a-zA-Z]+'\\nre.findall(names,patt)\", \"import re\\nall_names = 'tawqeer umaid nadeem rohit shobit vikas'\\npatt = '[a-z]+', r'[A-Z]+', r'[a-zA-Z]+'\\nre.findall(names,patt)\", \"import re\\nall_names = 'tawqeer umaid nadeem rohit shobit vikas'\\npatt = '[^!@#$%^&*()_+]+'\\nre.findall(names,patt)\", \"import re\\nall_names = 'tawqeer umaid nadeem rohit shobit vikas'\\npatt = '[^!@#$%^&*()_+]+'\\nre.findall(patt, names)\", \"import re\\nall_names = 'tawqeer umaid nadeem rohit shobit vikas'\\npatt = '[^!@#$%^&*()_+]+'\\nre.findall(patt, names)\", \"import re\\nall_names = 'tawqeer umaid nadeem rohit shobit vikas'\\npatt = r'[^!@#$%^&*()_+]+'\\nre.findall(patt, names)\", \"import re\\nall_names = 'tawqeer umaid nadeem rohit shobit vikas'\\npatt = '[^!@#$%^&*()_+]+'\\nre.findall(patt, names)\", \"import re\\nall_names = 'tawqeer umaid nadeem rohit shobit vikas'\\npatt = '[^!@#$%^&*()_+] +'\\nre.findall(patt, names)\", \"import re\\nall_names = 'tawqeer umaid nadeem rohit shobit vikas'\\npatt = '[^!@#$%^&*()_] +'\\nre.findall(patt, names)\", \"import re\\nall_names = 'tawqeer umaid nadeem rohit shobit vikas'\\npatt = '['tawqeer', 'umaid']'\\nre.findall(patt, names)\", \"import re\\nall_names = 'tawqeer umaid nadeem rohit shobit vikas'\\npatt = '['tawqeer', 'umaid']\\nre.findall(patt, names)\", \"import re\\nall_names = 'tawqeer umaid nadeem rohit shobit vikas'\\npatt = ['tawqeer', 'umaid']\\nre.findall(patt, names)\", \"import re\\nall_names = 'tawqeer umaid nadeem rohit shobit vikas'\\npatt = ['tawqeer''umaid']\\nre.findall(patt, names)\", \"import re\\nall_names = 'tawqeer umaid nadeem rohit shobit vikas'\\npatt = ['tawqeerumaid']\\nre.findall(patt, names)\", \"import re\\nall_names = 'tawqeer umaid nadeem rohit shobit vikas'\\npatt =  'tawqeerumaid' \\nre.findall(patt, names)\", \"import re\\nall_names = 'tawqeer umaid nadeem rohit shobit vikas'\\npatt =  'tawqeer umaid' \\nre.findall(patt, names)\", \"import re\\nall_names = 'tawqeer umaid nadeem rohit shobit vikas'\\npatt =  'tawqeer umaid' \\nre.search(patt, names)\", \"import re\\nall_names = 'tawqeer umaid nadeem rohit shobit vikas'\\npatt =  'tawqeer umaid' \\nre.match(patt, names)\", \"import re\\nall_names = 'tawqeer umaid nadeem rohit shobit vikas'\\npatt =  'tawqeer umaid' \\nre.match(patt, all_names)\", \"import re\\nall_names = 'tawqeer umaid nadeem rohit shobit vikas'\\npatt =  'tawqeer umaid' \\nre.findall(patt, all_names)\", \"import re\\nall_names = 'tawqeer umaid nadeem rohit shobit vikas'\\npatt =  ['tawqeer'+, umaid'+]\\nre.findall(patt, all_names)\", \"import re\\nall_names = 'tawqeer umaid nadeem rohit shobit vikas'\\npatt =  ''[^!@#$%&*()_+ ]+'\\nre.findall(patt, all_names)\", \"import re\\nall_names = 'tawqeer umaid nadeem rohit shobit vikas'\\npatt =  '[^!@#$%&*()_+ ]+'\\nre.findall(patt, all_names)\", \"import re\\nall_names = 'This paragraph has a lot of punctuations.Like @ ,#,$ and & etc. Let us remove them all'\\npatt =  '[^!@#$%&*()_+ ]+'\\nre.findall(patt, all_names)\", \"import re\\nall_names = 'This paragraph has a lot of punctuations.Like @ ,#,$ and & etc. Let us remove them all'\\npatt =  '[^!@#$%&*()_+, ]+'\\nre.findall(patt, all_names)\", \"import re\\nall_names = 'This paragraph has a lot of punctuations.Like @ ,#,$ and & etc. Let us remove them all'\\npatt =  '[^!@#$%&*()_+,. ]+'\\nre.findall(patt, all_names)\", \"import re\\nall_names = 'This paragraph has a lot of punctuations.Like @ ,#,$ and & etc. Let us remove them all'\\npatt =  '[^!@#$%&*()_+,. ]+' #Check ofr matches that are not all the symbols between ^ and ]\\nre.findall(patt, all_names)\", 'name = input(\"Enter your name: \")\\nprint(\"Your name is : \")\\nprint(name)', 'marks = int(input(\"Enter Your marks : \"))\\nper  = (marks /500)*100\\nprint(\"You Scored \")\\nprint(per)\\nprint(\"%\")', 'print(\"hello my name is : {x}\".format(x=\\'Tawqeer ul Islam\\'))', 'print(\"Hello My Name is : %s  \" %(\\'Tawqeer\\'))', 'print(\"You have Scored %20.3f \\\\n%36.3f\" %(22.2,33.3))', 'print(\"%s is elder brother of %s \" %(\\'Tawqeer\\',\\'Naveed\\'))', 'print(\"{a} is elder brother of {n}.{a}\\'s age is 22 and {n}\\'s age is 16\" .format(a=\"Tawqeer\",n=\"Naveed\"))', 'my_list = [\"hello\", 20, \"Sangas\"]', 'print(my_list)', 'my_list[2]', 'my_list[::-1]', 'my_list.append(\"list\")', 'my_list', 'my_list.pop(-2)', 'my_dict = {}', \"my_dict = {'k1':'Taqbi','k2':123,'k3':2.0}\", \"my_dict['k1']\", \"my_dict['k2']+=20\", \"my_dict['k2']\", 'my_dict.keys()', 'my_dict.values()', 'my_dict.items()', \"my_dict['address'] = 'Sangas'\", 'my_dict.items()', 'my_dict', \"my_dict['k1'][::-1]\", \"dict = {1:{2:{3:'hello'}}}\", 'message = dict[1][2][3]', 'print(message)', \"dict[4] = 'kulgam'\", 'dict.update()', 'dict.pop(4)', 'dict', 'dict', \"t =  ('hello',12)\", 't[1]', 't[1] +1', 't.count(1)', 't.count(12)', \"t.index('hello')\", 'get_ipython().run_cell_magic(\\'writefile\\', \\'a.txt\\', \\'\"Hello There\"\\')', \"a = open('a.txt')\\na.read()\", 'a.read()', 'a.seek(0)', 'a.readlines()', 'x = set()', 'x.add(2)', 'x', 'x.pop()', 'l = [5,2,1,2,4,5]\\nx = set(l)\\nprint(x)\\nprint(l)', 'b = True', 'b = 2>5\\nprint(b)\\nb = None\\nprint(b)', '#Chain COmparisions and use of AND, OR', 'a = 2\\nb = 3\\nc = 5\\na < 2 and b > 4 ', 'b == 3 or c > 3', 'a = 2\\ns = \\'hello\\'\\nif s == 10:\\n    print(\"a is greater than 1\")\\nelif False:\\n    print(\"This one is also executed\")\\nelif s is \\'Hello\\':\\n    print(\" S is Hello\")\\nelse:\\n    print(\"Else is executed\")\\n    ', 'l = [5,6,7,8,10]\\nfor i in l:\\n    print(i)', 'tup =  [(2,3),(4,3),(5,5)]\\nfor (t1,t2) in tup:\\n    print(\"t1 = {x1}  t2 = {x2}\".format(x1 = t1,x2 = t2))', 'dic = {\\' k1\\':1,\\'k2\\':2,\\'k3\\':3}\\nfor i,j in dic.items():\\n    print(\"{a},{b}\".format(a=i,b=j))', 'import math\\ndef check_prime(n):\\n    if n % 2 == 0:\\n        print(\"{a} is not prime.\".format(a = n))\\n        return\\n    for i in range(3, int(math.sqrt(n))+1, 2):\\n        if n%i==0:\\n            print(\"{a} is not prime.\".format(a = n))\\n            break\\n    else:\\n        print(\"{a} is prime\".format(a = n))\\n        ', 'check_prime(397)', 'mul_5 = lambda x: x*5', 'mul_5(4)', 'mul_5(\"Hey! I want to multiply this string by 5. \")', 'length = lambda string: len(string)', 'length(\"Can you calculate the number of characters i contain?\")', 'import math\\nhcf = lambda x,y: math.gcd(x,y)\\nhcf(368268,682686)\\n    ', 'class Student(object):\\n    college = \"NITJ\"\\n    \\n    def __init__(self,r,n,g):\\n        self.roll_no = r\\n        self.name = n\\n        self.gender = g ', 's1 = Student(1,\"SAM\",\"male\")\\ns2 = Student(2, \"Taq\", \"male\")', 'print(\"Student 1 data : {a}  {b}  {c} \".format(a = s1.roll_no, b = s1.name, c = s1.gender))\\nprint(\"Student 2 data : {a}  {b}  {c} \".format(a = s2.roll_no, b = s2.name, c = s2.gender))', 'class Room(object):\\n    #class object attribute\\n    height = 12\\n    def  __init__(self,l,b):\\n        self.len = l\\n        self.bre = b\\n    def area(self):\\n        return (self.len)*(self.bre)\\n    def vol(self):\\n        v = Room.height * self.area()\\n        return v\\n        \\n        ', 'r1 = Room(12,14)\\nr2 = Room(10,15)', 'r1.area()', 'r1.vol()', 'r2.area()', 'r2.vol()', '#Creating the animal class\\nclass Animal(object):\\n    def __init__():\\n        print(\"I am an Animal\")\\n    def eats(self):\\n        print(\"Food\")\\n#Creating the dog class\\nclass Dog(Animal):\\n    def __init__(self):\\n        #Animal.__init__(self)\\n        print(\" called dog\")\\n    def bark(self):\\n        print(\"Whoooo Whoooo\")\\n    def eats(self):\\n        Animal.eats(self)\\n        print(\"called dog food\")\\n#Creating objects\\nd1 = Dog()\\nd1.bark()\\nd1.eats()\\n        \\n        ', 'class Book(object):\\n    def __init__(self,n,a,p):\\n        self.name = n\\n        self.author= a\\n        self.pages = p\\n        print(\"Book created\")\\n    \\n    #Special method for printing object\\n    def __str__(self):\\n        return(\"Name : %s, Author : %s, pages  : %s \"%(self.name,self.author,self.pages))\\n\\nobj = Book(\"python\",\"Taq bi\",120)\\nprint(obj)', 'try:\\n    2 +\"hello\"\\nexcept TypeError:\\n    print(\"There is a type Error\")\\nfinally:\\n    print(\"Finally always gets executed\")', 'try:\\n    f = open(\"filename\",\"w\")  #A file of the anme filenmae will be created and opened in write mode\\n    f.write(\"Hello there,I am writing to the file\")\\nexcept:\\n    print(\"Writing to the File Unsuccesful\")\\nelse:\\n    print(\"File wriiten Succesful\")', 'try:\\n    f = open(\"filename\",\"r\")  #Here we are opening the file in read mode\\n    f.write(\"Hello there,I am writing to the file\")\\nexcept IOError:\\n    print(\"Writing to the File Unsuccesful\")\\n\\nelse:\\n    print(\"File wriiten Succesful\")', 'while True:\\n    try:\\n        num = int(input(\"Enter an Integer : \"))\\n    except:\\n        print(\"Please enter an Integer : \")\\n        continue\\n    else:\\n        print(\"Integer Entered is : %s\"%(num) )\\n        break\\n    \\n    ', 'import math\\nmath.sqrt(5.22)', 'from math import sqrt\\nsqrt(452)', 'def per(m):\\n    return m/500*100\\nmarks = [450,364,459,421,399,234]\\nres = map(per,marks)\\nprint(list(res))', 'a = map(lambda m: m/500*100,marks)', 'from functools import reduce\\ndef sum(x,y):\\n    return x+y\\ncosts = [20,25,21,32,55,56]\\nreduce(sum,costs)', 'from IPython.display import Image\\nImage(r\"E:\\\\Pictures\\\\Kashmir as it was\\\\4th Bridge Srinagar 1911 Kashmir...jpg\")', 'lst = [2,3,9,45,24,63,90,55]\\ndef isEven(m):\\n    if m%2 is 0: \\n        return True\\n    else:\\n        return False\\nres = filter(isEven,lst)\\nprint(list(res))', 'l1 = [1,3,5,7]\\nl2 = [2,4,6,8]\\nres = zip(l1,l2)\\nprint(list(res))', 'd1 ={\\'z\\':1,\"x\":2}\\nd2 = {\\'a\\':5,\\'b\\':7}\\nres = zip(d1,d2)\\nprint(list(res))', 'lst = [\\'Tawqeer\\', \\'Aabid\\',\\'Gazi\\']\\nfor i,item in enumerate(lst):\\n    print(\"{a} is at {b}\".format(a = item,b = i))', 'lst = [True,True,True]\\nfal = [True,True,False]\\nprint(all(lst))\\nprint(all(fal))\\nprint(any(fal))', 'complex(2,5)', \"complex('5+2j')\", 's = \"This is a global variable \"\\ndef fun():\\n    print(locals())\\n    \\nfun()', 'print(globals())'], '_oh': {2: ['a', 'a', 'a', 'a', 'a', 'a', 'a', 'a', 'a', 'a'], 3: ['Hi!', 'There', 'how', 'are', 'you', 'doing.My', 'name', 'is', 'Jarvis', 'and', 'I', 'am', 'your', 'assistant', 'for', 'the', 'course.tell', 'me', 'if', 'you', 'have', 'any', 'problem', 'so', 'far'], 41: <_sre.SRE_Match object; span=(0, 13), match='tawqeer umaid'>, 42: ['tawqeer umaid'], 45: ['tawqeer', 'umaid', 'nadeem', 'rohit', 'shobit', 'vikas'], 46: ['This', 'paragraph', 'has', 'a', 'lot', 'of', 'punctuations.Like', ',', ',', 'and', 'etc.', 'Let', 'us', 'remove', 'them', 'all'], 47: ['This', 'paragraph', 'has', 'a', 'lot', 'of', 'punctuations.Like', 'and', 'etc.', 'Let', 'us', 'remove', 'them', 'all'], 48: ['This', 'paragraph', 'has', 'a', 'lot', 'of', 'punctuations', 'Like', 'and', 'etc', 'Let', 'us', 'remove', 'them', 'all'], 49: ['This', 'paragraph', 'has', 'a', 'lot', 'of', 'punctuations', 'Like', 'and', 'etc', 'Let', 'us', 'remove', 'them', 'all'], 59: 'Sangas', 60: ['Sangas', 20, 'hello'], 62: ['hello', 20, 'list'], 63: 'Sangas', 66: 'Taqbi', 68: 143, 69: dict_keys(['k1', 'k2', 'k3', 'address']), 70: dict_values(['Taqbi', 143, 2.0, 'Sangas']), 71: dict_items([('k1', 'Taqbi'), ('k2', 143), ('k3', 2.0), ('address', 'Sangas')]), 73: dict_items([('k1', 'Taqbi'), ('k2', 143), ('k3', 2.0), ('address', 'Sangas')]), 74: {'k1': 'Taqbi', 'k2': 143, 'k3': 2.0, 'address': 'Sangas'}, 75: 'ibqaT', 81: 'kulgam', 82: {1: {2: {3: 'hello'}}}, 83: {1: {2: {3: 'hello'}}}, 85: 12, 86: 13, 87: 0, 88: 1, 89: 0, 91: '\"Hello There\"', 92: '', 93: 0, 94: ['\"Hello There\"'], 97: set(), 98: 2, 103: False, 104: True, 112: 20, 113: 'Hey! I want to multiply this string by 5. Hey! I want to multiply this string by 5. Hey! I want to multiply this string by 5. Hey! I want to multiply this string by 5. Hey! I want to multiply this string by 5. ', 115: 53, 116: 6, 122: 168, 123: 2016, 124: 150, 125: 1800, 132: 2.2847319317591723, 133: 21.2602916254693, 136: 209, 137: <IPython.core.display.Image object>, 143: (2+5j), 144: (5+2j)}, '_dh': ['C:\\\\Users\\\\TAQ BI'], 'In': ['', 'import re ', 'import re \\npattern = \"a\"\\ntext = \"Hi! There how are you doing.My name is Jarvis and I am your assistant for the course.tell me if you have any problem so far\"\\nre.findall(pattern,text)', 'import re \\npattern = \"a\"\\ntext = \"Hi! There how are you doing.My name is Jarvis and I am your assistant for the course.tell me if you have any problem so far\"\\nre.findall(pattern,text)\\nre.split(\\' \\',text)', 'import re \\npattern = \"a\"\\ntext = \"Hi! There how are you doing.My name is Jarvis and I am your assistant for the course.tell me if you have any problem so far\"\\nprint(re.findall(pattern,text))\\nprint(re.split(\\' \\',text))', 'import re \\npattern = \"a\"\\ntext = \"Hi! There how are you doing. My name is Jarvis and I am your assistant for the course. Tell me if you have any problem so far\"\\nprint(re.findall(pattern,text))\\nprint(re.split(\\' \\',text))', \"import re\\nall_names = ['tawqeer','umaid','nadeem', 'rohit', 'shobit', 'vikas']\\nnames = ['tawqeer', 'umaid', 'nadeem']\\nre.search(names,all_names)\", \"import re\\nall_names = 'tawqeer umaid nadeem rohit shobit vikas'\\nnames = ['tawqeer', 'umaid', 'nadeem']\\nre.search(names,all_names)\", \"import re\\nall_names = 'tawqeer umaid nadeem rohit shobit vikas'\\nnames = ['tawqeer', 'umaid', 'nadeem']\\nre.search(names,all_names)\", \"import re\\nall_names = 'tawqeer umaid nadeem rohit shobit vikas'\\nnames = ['tawqeer'+, 'umaid'+, 'nadeem'+]\\nre.search(names,all_names)\", \"import re\\nall_names = 'tawqeer umaid nadeem rohit shobit vikas'\\nnames = ['tawqeer+', 'umaid+', 'nadeem+']\\nre.search(names,all_names)\", \"import re\\nall_names = 'tawqeer umaid nadeem rohit shobit vikas'\\nnames = ['[tawqeer]+', '[umaid]+', '[nadeem]+']\\nre.search(names,all_names)\", \"import re\\nall_names = 'tawqeer umaid nadeem rohit shobit vikas'\\nnames = ['[a-z]+', '[A-Z]+', '[a-zA-Z]+']\\nre.search(names,all_names)\", \"import re\\nall_names = 'tawqeer umaid nadeem rohit shobit vikas'\\nnames = ['[a-z]+', '[A-Z]+', '[a-zA-Z]+']\\nre.search(names,all_names)\", \"import re\\nall_names = 'tawqeer umaid nadeem rohit shobit vikas'\\nnames = ['[a-z]+', '[A-Z]+', '[a-zA-Z]+']\\nre.ifnd(names,all_names)\", \"import re\\nall_names = 'tawqeer umaid nadeem rohit shobit vikas'\\nnames = ['[a-z]+', '[A-Z]+', '[a-zA-Z]+']\\nre.find(names,all_names)\", \"import re\\nall_names = 'tawqeer umaid nadeem rohit shobit vikas'\\nnames = ['[a-z]+', '[A-Z]+', '[a-zA-Z]+']\\nre.match(names,all_names)\", \"import re\\nall_names = 'tawqeer umaid nadeem rohit shobit vikas'\\nnames = ['[a-z]+', '[A-Z]+', '[a-zA-Z]+']\\nmulti_re_find(names,all_names)\", \"import re\\nall_names = 'tawqeer umaid nadeem rohit shobit vikas'\\nnames = ['[a-z]+', '[A-Z]+', '[a-zA-Z]+']\\nre.multi_re_find(names,all_names)\", \"from re import multi_re_find\\nall_names = 'tawqeer umaid nadeem rohit shobit vikas'\\nnames = ['[a-z]+', '[A-Z]+', '[a-zA-Z]+']\\nre.multi_re_find(names,all_names)\", \"from re import multi_re_find\\nall_names = 'tawqeer umaid nadeem rohit shobit vikas'\\nnames = ['[a-z]+', '[A-Z]+', '[a-zA-Z]+']\\nre.findall(names,all_names)\", \"import re\\nall_names = 'tawqeer umaid nadeem rohit shobit vikas'\\nnames = ['[a-z]+', '[A-Z]+', '[a-zA-Z]+']\\nre.findall(names,all_names)\", \"import re\\nall_names = 'tawqeer umaid nadeem rohit shobit vikas'\\nnames = [r'[a-z]+', r'[A-Z]+', r'[a-zA-Z]+']\\nre.findall(names,all_names)\", \"import re\\nall_names = 'tawqeer umaid nadeem rohit shobit vikas'\\nnames = '[a-z]+', r'[A-Z]+', r'[a-zA-Z]+'\\nre.findall(names,patt)\", \"import re\\nall_names = 'tawqeer umaid nadeem rohit shobit vikas'\\npatt = '[a-z]+', r'[A-Z]+', r'[a-zA-Z]+'\\nre.findall(names,patt)\", \"import re\\nall_names = 'tawqeer umaid nadeem rohit shobit vikas'\\npatt = '[^!@#$%^&*()_+]+'\\nre.findall(names,patt)\", \"import re\\nall_names = 'tawqeer umaid nadeem rohit shobit vikas'\\npatt = '[^!@#$%^&*()_+]+'\\nre.findall(patt, names)\", \"import re\\nall_names = 'tawqeer umaid nadeem rohit shobit vikas'\\npatt = '[^!@#$%^&*()_+]+'\\nre.findall(patt, names)\", \"import re\\nall_names = 'tawqeer umaid nadeem rohit shobit vikas'\\npatt = r'[^!@#$%^&*()_+]+'\\nre.findall(patt, names)\", \"import re\\nall_names = 'tawqeer umaid nadeem rohit shobit vikas'\\npatt = '[^!@#$%^&*()_+]+'\\nre.findall(patt, names)\", \"import re\\nall_names = 'tawqeer umaid nadeem rohit shobit vikas'\\npatt = '[^!@#$%^&*()_+] +'\\nre.findall(patt, names)\", \"import re\\nall_names = 'tawqeer umaid nadeem rohit shobit vikas'\\npatt = '[^!@#$%^&*()_] +'\\nre.findall(patt, names)\", \"import re\\nall_names = 'tawqeer umaid nadeem rohit shobit vikas'\\npatt = '['tawqeer', 'umaid']'\\nre.findall(patt, names)\", \"import re\\nall_names = 'tawqeer umaid nadeem rohit shobit vikas'\\npatt = '['tawqeer', 'umaid']\\nre.findall(patt, names)\", \"import re\\nall_names = 'tawqeer umaid nadeem rohit shobit vikas'\\npatt = ['tawqeer', 'umaid']\\nre.findall(patt, names)\", \"import re\\nall_names = 'tawqeer umaid nadeem rohit shobit vikas'\\npatt = ['tawqeer''umaid']\\nre.findall(patt, names)\", \"import re\\nall_names = 'tawqeer umaid nadeem rohit shobit vikas'\\npatt = ['tawqeerumaid']\\nre.findall(patt, names)\", \"import re\\nall_names = 'tawqeer umaid nadeem rohit shobit vikas'\\npatt =  'tawqeerumaid' \\nre.findall(patt, names)\", \"import re\\nall_names = 'tawqeer umaid nadeem rohit shobit vikas'\\npatt =  'tawqeer umaid' \\nre.findall(patt, names)\", \"import re\\nall_names = 'tawqeer umaid nadeem rohit shobit vikas'\\npatt =  'tawqeer umaid' \\nre.search(patt, names)\", \"import re\\nall_names = 'tawqeer umaid nadeem rohit shobit vikas'\\npatt =  'tawqeer umaid' \\nre.match(patt, names)\", \"import re\\nall_names = 'tawqeer umaid nadeem rohit shobit vikas'\\npatt =  'tawqeer umaid' \\nre.match(patt, all_names)\", \"import re\\nall_names = 'tawqeer umaid nadeem rohit shobit vikas'\\npatt =  'tawqeer umaid' \\nre.findall(patt, all_names)\", \"import re\\nall_names = 'tawqeer umaid nadeem rohit shobit vikas'\\npatt =  ['tawqeer'+, umaid'+]\\nre.findall(patt, all_names)\", \"import re\\nall_names = 'tawqeer umaid nadeem rohit shobit vikas'\\npatt =  ''[^!@#$%&*()_+ ]+'\\nre.findall(patt, all_names)\", \"import re\\nall_names = 'tawqeer umaid nadeem rohit shobit vikas'\\npatt =  '[^!@#$%&*()_+ ]+'\\nre.findall(patt, all_names)\", \"import re\\nall_names = 'This paragraph has a lot of punctuations.Like @ ,#,$ and & etc. Let us remove them all'\\npatt =  '[^!@#$%&*()_+ ]+'\\nre.findall(patt, all_names)\", \"import re\\nall_names = 'This paragraph has a lot of punctuations.Like @ ,#,$ and & etc. Let us remove them all'\\npatt =  '[^!@#$%&*()_+, ]+'\\nre.findall(patt, all_names)\", \"import re\\nall_names = 'This paragraph has a lot of punctuations.Like @ ,#,$ and & etc. Let us remove them all'\\npatt =  '[^!@#$%&*()_+,. ]+'\\nre.findall(patt, all_names)\", \"import re\\nall_names = 'This paragraph has a lot of punctuations.Like @ ,#,$ and & etc. Let us remove them all'\\npatt =  '[^!@#$%&*()_+,. ]+' #Check ofr matches that are not all the symbols between ^ and ]\\nre.findall(patt, all_names)\", 'name = input(\"Enter your name: \")\\nprint(\"Your name is : \")\\nprint(name)', 'marks = int(input(\"Enter Your marks : \"))\\nper  = (marks /500)*100\\nprint(\"You Scored \")\\nprint(per)\\nprint(\"%\")', 'print(\"hello my name is : {x}\".format(x=\\'Tawqeer ul Islam\\'))', 'print(\"Hello My Name is : %s  \" %(\\'Tawqeer\\'))', 'print(\"You have Scored %20.3f \\\\n%36.3f\" %(22.2,33.3))', 'print(\"%s is elder brother of %s \" %(\\'Tawqeer\\',\\'Naveed\\'))', 'print(\"{a} is elder brother of {n}.{a}\\'s age is 22 and {n}\\'s age is 16\" .format(a=\"Tawqeer\",n=\"Naveed\"))', 'my_list = [\"hello\", 20, \"Sangas\"]', 'print(my_list)', 'my_list[2]', 'my_list[::-1]', 'my_list.append(\"list\")', 'my_list', 'my_list.pop(-2)', 'my_dict = {}', \"my_dict = {'k1':'Taqbi','k2':123,'k3':2.0}\", \"my_dict['k1']\", \"my_dict['k2']+=20\", \"my_dict['k2']\", 'my_dict.keys()', 'my_dict.values()', 'my_dict.items()', \"my_dict['address'] = 'Sangas'\", 'my_dict.items()', 'my_dict', \"my_dict['k1'][::-1]\", \"dict = {1:{2:{3:'hello'}}}\", 'message = dict[1][2][3]', 'print(message)', \"dict[4] = 'kulgam'\", 'dict.update()', 'dict.pop(4)', 'dict', 'dict', \"t =  ('hello',12)\", 't[1]', 't[1] +1', 't.count(1)', 't.count(12)', \"t.index('hello')\", 'get_ipython().run_cell_magic(\\'writefile\\', \\'a.txt\\', \\'\"Hello There\"\\')', \"a = open('a.txt')\\na.read()\", 'a.read()', 'a.seek(0)', 'a.readlines()', 'x = set()', 'x.add(2)', 'x', 'x.pop()', 'l = [5,2,1,2,4,5]\\nx = set(l)\\nprint(x)\\nprint(l)', 'b = True', 'b = 2>5\\nprint(b)\\nb = None\\nprint(b)', '#Chain COmparisions and use of AND, OR', 'a = 2\\nb = 3\\nc = 5\\na < 2 and b > 4 ', 'b == 3 or c > 3', 'a = 2\\ns = \\'hello\\'\\nif s == 10:\\n    print(\"a is greater than 1\")\\nelif False:\\n    print(\"This one is also executed\")\\nelif s is \\'Hello\\':\\n    print(\" S is Hello\")\\nelse:\\n    print(\"Else is executed\")\\n    ', 'l = [5,6,7,8,10]\\nfor i in l:\\n    print(i)', 'tup =  [(2,3),(4,3),(5,5)]\\nfor (t1,t2) in tup:\\n    print(\"t1 = {x1}  t2 = {x2}\".format(x1 = t1,x2 = t2))', 'dic = {\\' k1\\':1,\\'k2\\':2,\\'k3\\':3}\\nfor i,j in dic.items():\\n    print(\"{a},{b}\".format(a=i,b=j))', 'import math\\ndef check_prime(n):\\n    if n % 2 == 0:\\n        print(\"{a} is not prime.\".format(a = n))\\n        return\\n    for i in range(3, int(math.sqrt(n))+1, 2):\\n        if n%i==0:\\n            print(\"{a} is not prime.\".format(a = n))\\n            break\\n    else:\\n        print(\"{a} is prime\".format(a = n))\\n        ', 'check_prime(397)', 'mul_5 = lambda x: x*5', 'mul_5(4)', 'mul_5(\"Hey! I want to multiply this string by 5. \")', 'length = lambda string: len(string)', 'length(\"Can you calculate the number of characters i contain?\")', 'import math\\nhcf = lambda x,y: math.gcd(x,y)\\nhcf(368268,682686)\\n    ', 'class Student(object):\\n    college = \"NITJ\"\\n    \\n    def __init__(self,r,n,g):\\n        self.roll_no = r\\n        self.name = n\\n        self.gender = g ', 's1 = Student(1,\"SAM\",\"male\")\\ns2 = Student(2, \"Taq\", \"male\")', 'print(\"Student 1 data : {a}  {b}  {c} \".format(a = s1.roll_no, b = s1.name, c = s1.gender))\\nprint(\"Student 2 data : {a}  {b}  {c} \".format(a = s2.roll_no, b = s2.name, c = s2.gender))', 'class Room(object):\\n    #class object attribute\\n    height = 12\\n    def  __init__(self,l,b):\\n        self.len = l\\n        self.bre = b\\n    def area(self):\\n        return (self.len)*(self.bre)\\n    def vol(self):\\n        v = Room.height * self.area()\\n        return v\\n        \\n        ', 'r1 = Room(12,14)\\nr2 = Room(10,15)', 'r1.area()', 'r1.vol()', 'r2.area()', 'r2.vol()', '#Creating the animal class\\nclass Animal(object):\\n    def __init__():\\n        print(\"I am an Animal\")\\n    def eats(self):\\n        print(\"Food\")\\n#Creating the dog class\\nclass Dog(Animal):\\n    def __init__(self):\\n        #Animal.__init__(self)\\n        print(\" called dog\")\\n    def bark(self):\\n        print(\"Whoooo Whoooo\")\\n    def eats(self):\\n        Animal.eats(self)\\n        print(\"called dog food\")\\n#Creating objects\\nd1 = Dog()\\nd1.bark()\\nd1.eats()\\n        \\n        ', 'class Book(object):\\n    def __init__(self,n,a,p):\\n        self.name = n\\n        self.author= a\\n        self.pages = p\\n        print(\"Book created\")\\n    \\n    #Special method for printing object\\n    def __str__(self):\\n        return(\"Name : %s, Author : %s, pages  : %s \"%(self.name,self.author,self.pages))\\n\\nobj = Book(\"python\",\"Taq bi\",120)\\nprint(obj)', 'try:\\n    2 +\"hello\"\\nexcept TypeError:\\n    print(\"There is a type Error\")\\nfinally:\\n    print(\"Finally always gets executed\")', 'try:\\n    f = open(\"filename\",\"w\")  #A file of the anme filenmae will be created and opened in write mode\\n    f.write(\"Hello there,I am writing to the file\")\\nexcept:\\n    print(\"Writing to the File Unsuccesful\")\\nelse:\\n    print(\"File wriiten Succesful\")', 'try:\\n    f = open(\"filename\",\"r\")  #Here we are opening the file in read mode\\n    f.write(\"Hello there,I am writing to the file\")\\nexcept IOError:\\n    print(\"Writing to the File Unsuccesful\")\\n\\nelse:\\n    print(\"File wriiten Succesful\")', 'while True:\\n    try:\\n        num = int(input(\"Enter an Integer : \"))\\n    except:\\n        print(\"Please enter an Integer : \")\\n        continue\\n    else:\\n        print(\"Integer Entered is : %s\"%(num) )\\n        break\\n    \\n    ', 'import math\\nmath.sqrt(5.22)', 'from math import sqrt\\nsqrt(452)', 'def per(m):\\n    return m/500*100\\nmarks = [450,364,459,421,399,234]\\nres = map(per,marks)\\nprint(list(res))', 'a = map(lambda m: m/500*100,marks)', 'from functools import reduce\\ndef sum(x,y):\\n    return x+y\\ncosts = [20,25,21,32,55,56]\\nreduce(sum,costs)', 'from IPython.display import Image\\nImage(r\"E:\\\\Pictures\\\\Kashmir as it was\\\\4th Bridge Srinagar 1911 Kashmir...jpg\")', 'lst = [2,3,9,45,24,63,90,55]\\ndef isEven(m):\\n    if m%2 is 0: \\n        return True\\n    else:\\n        return False\\nres = filter(isEven,lst)\\nprint(list(res))', 'l1 = [1,3,5,7]\\nl2 = [2,4,6,8]\\nres = zip(l1,l2)\\nprint(list(res))', 'd1 ={\\'z\\':1,\"x\":2}\\nd2 = {\\'a\\':5,\\'b\\':7}\\nres = zip(d1,d2)\\nprint(list(res))', 'lst = [\\'Tawqeer\\', \\'Aabid\\',\\'Gazi\\']\\nfor i,item in enumerate(lst):\\n    print(\"{a} is at {b}\".format(a = item,b = i))', 'lst = [True,True,True]\\nfal = [True,True,False]\\nprint(all(lst))\\nprint(all(fal))\\nprint(any(fal))', 'complex(2,5)', \"complex('5+2j')\", 's = \"This is a global variable \"\\ndef fun():\\n    print(locals())\\n    \\nfun()', 'print(globals())'], 'Out': {2: ['a', 'a', 'a', 'a', 'a', 'a', 'a', 'a', 'a', 'a'], 3: ['Hi!', 'There', 'how', 'are', 'you', 'doing.My', 'name', 'is', 'Jarvis', 'and', 'I', 'am', 'your', 'assistant', 'for', 'the', 'course.tell', 'me', 'if', 'you', 'have', 'any', 'problem', 'so', 'far'], 41: <_sre.SRE_Match object; span=(0, 13), match='tawqeer umaid'>, 42: ['tawqeer umaid'], 45: ['tawqeer', 'umaid', 'nadeem', 'rohit', 'shobit', 'vikas'], 46: ['This', 'paragraph', 'has', 'a', 'lot', 'of', 'punctuations.Like', ',', ',', 'and', 'etc.', 'Let', 'us', 'remove', 'them', 'all'], 47: ['This', 'paragraph', 'has', 'a', 'lot', 'of', 'punctuations.Like', 'and', 'etc.', 'Let', 'us', 'remove', 'them', 'all'], 48: ['This', 'paragraph', 'has', 'a', 'lot', 'of', 'punctuations', 'Like', 'and', 'etc', 'Let', 'us', 'remove', 'them', 'all'], 49: ['This', 'paragraph', 'has', 'a', 'lot', 'of', 'punctuations', 'Like', 'and', 'etc', 'Let', 'us', 'remove', 'them', 'all'], 59: 'Sangas', 60: ['Sangas', 20, 'hello'], 62: ['hello', 20, 'list'], 63: 'Sangas', 66: 'Taqbi', 68: 143, 69: dict_keys(['k1', 'k2', 'k3', 'address']), 70: dict_values(['Taqbi', 143, 2.0, 'Sangas']), 71: dict_items([('k1', 'Taqbi'), ('k2', 143), ('k3', 2.0), ('address', 'Sangas')]), 73: dict_items([('k1', 'Taqbi'), ('k2', 143), ('k3', 2.0), ('address', 'Sangas')]), 74: {'k1': 'Taqbi', 'k2': 143, 'k3': 2.0, 'address': 'Sangas'}, 75: 'ibqaT', 81: 'kulgam', 82: {1: {2: {3: 'hello'}}}, 83: {1: {2: {3: 'hello'}}}, 85: 12, 86: 13, 87: 0, 88: 1, 89: 0, 91: '\"Hello There\"', 92: '', 93: 0, 94: ['\"Hello There\"'], 97: set(), 98: 2, 103: False, 104: True, 112: 20, 113: 'Hey! I want to multiply this string by 5. Hey! I want to multiply this string by 5. Hey! I want to multiply this string by 5. Hey! I want to multiply this string by 5. Hey! I want to multiply this string by 5. ', 115: 53, 116: 6, 122: 168, 123: 2016, 124: 150, 125: 1800, 132: 2.2847319317591723, 133: 21.2602916254693, 136: 209, 137: <IPython.core.display.Image object>, 143: (2+5j), 144: (5+2j)}, 'get_ipython': <bound method InteractiveShell.get_ipython of <ipykernel.zmqshell.ZMQInteractiveShell object at 0x0000000004880F60>>, 'exit': <IPython.core.autocall.ZMQExitAutocall object at 0x0000000004990EF0>, 'quit': <IPython.core.autocall.ZMQExitAutocall object at 0x0000000004990EF0>, '_': (5+2j), '__': (2+5j), '___': <IPython.core.display.Image object>, '_i': 's = \"This is a global variable \"\\ndef fun():\\n    print(locals())\\n    \\nfun()', '_ii': \"complex('5+2j')\", '_iii': 'complex(2,5)', '_i1': 'import re ', 're': <module 're' from 'C:\\\\ProgramData\\\\Anaconda3\\\\lib\\\\re.py'>, '_i2': 'import re \\npattern = \"a\"\\ntext = \"Hi! There how are you doing.My name is Jarvis and I am your assistant for the course.tell me if you have any problem so far\"\\nre.findall(pattern,text)', 'pattern': 'a', 'text': 'Hi! There how are you doing. My name is Jarvis and I am your assistant for the course. Tell me if you have any problem so far', '_2': ['a', 'a', 'a', 'a', 'a', 'a', 'a', 'a', 'a', 'a'], '_i3': 'import re \\npattern = \"a\"\\ntext = \"Hi! There how are you doing.My name is Jarvis and I am your assistant for the course.tell me if you have any problem so far\"\\nre.findall(pattern,text)\\nre.split(\\' \\',text)', '_3': ['Hi!', 'There', 'how', 'are', 'you', 'doing.My', 'name', 'is', 'Jarvis', 'and', 'I', 'am', 'your', 'assistant', 'for', 'the', 'course.tell', 'me', 'if', 'you', 'have', 'any', 'problem', 'so', 'far'], '_i4': 'import re \\npattern = \"a\"\\ntext = \"Hi! There how are you doing.My name is Jarvis and I am your assistant for the course.tell me if you have any problem so far\"\\nprint(re.findall(pattern,text))\\nprint(re.split(\\' \\',text))', '_i5': 'import re \\npattern = \"a\"\\ntext = \"Hi! There how are you doing. My name is Jarvis and I am your assistant for the course. Tell me if you have any problem so far\"\\nprint(re.findall(pattern,text))\\nprint(re.split(\\' \\',text))', '_i6': \"import re\\nall_names = ['tawqeer','umaid','nadeem', 'rohit', 'shobit', 'vikas']\\nnames = ['tawqeer', 'umaid', 'nadeem']\\nre.search(names,all_names)\", 'all_names': 'This paragraph has a lot of punctuations.Like @ ,#,$ and & etc. Let us remove them all', 'names': ('[a-z]+', '[A-Z]+', '[a-zA-Z]+'), '_i7': \"import re\\nall_names = 'tawqeer umaid nadeem rohit shobit vikas'\\nnames = ['tawqeer', 'umaid', 'nadeem']\\nre.search(names,all_names)\", '_i8': \"import re\\nall_names = 'tawqeer umaid nadeem rohit shobit vikas'\\nnames = ['tawqeer', 'umaid', 'nadeem']\\nre.search(names,all_names)\", '_i9': \"import re\\nall_names = 'tawqeer umaid nadeem rohit shobit vikas'\\nnames = ['tawqeer'+, 'umaid'+, 'nadeem'+]\\nre.search(names,all_names)\", '_i10': \"import re\\nall_names = 'tawqeer umaid nadeem rohit shobit vikas'\\nnames = ['tawqeer+', 'umaid+', 'nadeem+']\\nre.search(names,all_names)\", '_i11': \"import re\\nall_names = 'tawqeer umaid nadeem rohit shobit vikas'\\nnames = ['[tawqeer]+', '[umaid]+', '[nadeem]+']\\nre.search(names,all_names)\", '_i12': \"import re\\nall_names = 'tawqeer umaid nadeem rohit shobit vikas'\\nnames = ['[a-z]+', '[A-Z]+', '[a-zA-Z]+']\\nre.search(names,all_names)\", '_i13': \"import re\\nall_names = 'tawqeer umaid nadeem rohit shobit vikas'\\nnames = ['[a-z]+', '[A-Z]+', '[a-zA-Z]+']\\nre.search(names,all_names)\", '_i14': \"import re\\nall_names = 'tawqeer umaid nadeem rohit shobit vikas'\\nnames = ['[a-z]+', '[A-Z]+', '[a-zA-Z]+']\\nre.ifnd(names,all_names)\", '_i15': \"import re\\nall_names = 'tawqeer umaid nadeem rohit shobit vikas'\\nnames = ['[a-z]+', '[A-Z]+', '[a-zA-Z]+']\\nre.find(names,all_names)\", '_i16': \"import re\\nall_names = 'tawqeer umaid nadeem rohit shobit vikas'\\nnames = ['[a-z]+', '[A-Z]+', '[a-zA-Z]+']\\nre.match(names,all_names)\", '_i17': \"import re\\nall_names = 'tawqeer umaid nadeem rohit shobit vikas'\\nnames = ['[a-z]+', '[A-Z]+', '[a-zA-Z]+']\\nmulti_re_find(names,all_names)\", '_i18': \"import re\\nall_names = 'tawqeer umaid nadeem rohit shobit vikas'\\nnames = ['[a-z]+', '[A-Z]+', '[a-zA-Z]+']\\nre.multi_re_find(names,all_names)\", '_i19': \"from re import multi_re_find\\nall_names = 'tawqeer umaid nadeem rohit shobit vikas'\\nnames = ['[a-z]+', '[A-Z]+', '[a-zA-Z]+']\\nre.multi_re_find(names,all_names)\", '_i20': \"from re import multi_re_find\\nall_names = 'tawqeer umaid nadeem rohit shobit vikas'\\nnames = ['[a-z]+', '[A-Z]+', '[a-zA-Z]+']\\nre.findall(names,all_names)\", '_i21': \"import re\\nall_names = 'tawqeer umaid nadeem rohit shobit vikas'\\nnames = ['[a-z]+', '[A-Z]+', '[a-zA-Z]+']\\nre.findall(names,all_names)\", '_i22': \"import re\\nall_names = 'tawqeer umaid nadeem rohit shobit vikas'\\nnames = [r'[a-z]+', r'[A-Z]+', r'[a-zA-Z]+']\\nre.findall(names,all_names)\", '_i23': \"import re\\nall_names = 'tawqeer umaid nadeem rohit shobit vikas'\\nnames = '[a-z]+', r'[A-Z]+', r'[a-zA-Z]+'\\nre.findall(names,patt)\", '_i24': \"import re\\nall_names = 'tawqeer umaid nadeem rohit shobit vikas'\\npatt = '[a-z]+', r'[A-Z]+', r'[a-zA-Z]+'\\nre.findall(names,patt)\", 'patt': '[^!@#$%&*()_+,. ]+', '_i25': \"import re\\nall_names = 'tawqeer umaid nadeem rohit shobit vikas'\\npatt = '[^!@#$%^&*()_+]+'\\nre.findall(names,patt)\", '_i26': \"import re\\nall_names = 'tawqeer umaid nadeem rohit shobit vikas'\\npatt = '[^!@#$%^&*()_+]+'\\nre.findall(patt, names)\", '_i27': \"import re\\nall_names = 'tawqeer umaid nadeem rohit shobit vikas'\\npatt = '[^!@#$%^&*()_+]+'\\nre.findall(patt, names)\", '_i28': \"import re\\nall_names = 'tawqeer umaid nadeem rohit shobit vikas'\\npatt = r'[^!@#$%^&*()_+]+'\\nre.findall(patt, names)\", '_i29': \"import re\\nall_names = 'tawqeer umaid nadeem rohit shobit vikas'\\npatt = '[^!@#$%^&*()_+]+'\\nre.findall(patt, names)\", '_i30': \"import re\\nall_names = 'tawqeer umaid nadeem rohit shobit vikas'\\npatt = '[^!@#$%^&*()_+] +'\\nre.findall(patt, names)\", '_i31': \"import re\\nall_names = 'tawqeer umaid nadeem rohit shobit vikas'\\npatt = '[^!@#$%^&*()_] +'\\nre.findall(patt, names)\", '_i32': \"import re\\nall_names = 'tawqeer umaid nadeem rohit shobit vikas'\\npatt = '['tawqeer', 'umaid']'\\nre.findall(patt, names)\", '_i33': \"import re\\nall_names = 'tawqeer umaid nadeem rohit shobit vikas'\\npatt = '['tawqeer', 'umaid']\\nre.findall(patt, names)\", '_i34': \"import re\\nall_names = 'tawqeer umaid nadeem rohit shobit vikas'\\npatt = ['tawqeer', 'umaid']\\nre.findall(patt, names)\", '_i35': \"import re\\nall_names = 'tawqeer umaid nadeem rohit shobit vikas'\\npatt = ['tawqeer''umaid']\\nre.findall(patt, names)\", '_i36': \"import re\\nall_names = 'tawqeer umaid nadeem rohit shobit vikas'\\npatt = ['tawqeerumaid']\\nre.findall(patt, names)\", '_i37': \"import re\\nall_names = 'tawqeer umaid nadeem rohit shobit vikas'\\npatt =  'tawqeerumaid' \\nre.findall(patt, names)\", '_i38': \"import re\\nall_names = 'tawqeer umaid nadeem rohit shobit vikas'\\npatt =  'tawqeer umaid' \\nre.findall(patt, names)\", '_i39': \"import re\\nall_names = 'tawqeer umaid nadeem rohit shobit vikas'\\npatt =  'tawqeer umaid' \\nre.search(patt, names)\", '_i40': \"import re\\nall_names = 'tawqeer umaid nadeem rohit shobit vikas'\\npatt =  'tawqeer umaid' \\nre.match(patt, names)\", '_i41': \"import re\\nall_names = 'tawqeer umaid nadeem rohit shobit vikas'\\npatt =  'tawqeer umaid' \\nre.match(patt, all_names)\", '_41': <_sre.SRE_Match object; span=(0, 13), match='tawqeer umaid'>, '_i42': \"import re\\nall_names = 'tawqeer umaid nadeem rohit shobit vikas'\\npatt =  'tawqeer umaid' \\nre.findall(patt, all_names)\", '_42': ['tawqeer umaid'], '_i43': \"import re\\nall_names = 'tawqeer umaid nadeem rohit shobit vikas'\\npatt =  ['tawqeer'+, umaid'+]\\nre.findall(patt, all_names)\", '_i44': \"import re\\nall_names = 'tawqeer umaid nadeem rohit shobit vikas'\\npatt =  ''[^!@#$%&*()_+ ]+'\\nre.findall(patt, all_names)\", '_i45': \"import re\\nall_names = 'tawqeer umaid nadeem rohit shobit vikas'\\npatt =  '[^!@#$%&*()_+ ]+'\\nre.findall(patt, all_names)\", '_45': ['tawqeer', 'umaid', 'nadeem', 'rohit', 'shobit', 'vikas'], '_i46': \"import re\\nall_names = 'This paragraph has a lot of punctuations.Like @ ,#,$ and & etc. Let us remove them all'\\npatt =  '[^!@#$%&*()_+ ]+'\\nre.findall(patt, all_names)\", '_46': ['This', 'paragraph', 'has', 'a', 'lot', 'of', 'punctuations.Like', ',', ',', 'and', 'etc.', 'Let', 'us', 'remove', 'them', 'all'], '_i47': \"import re\\nall_names = 'This paragraph has a lot of punctuations.Like @ ,#,$ and & etc. Let us remove them all'\\npatt =  '[^!@#$%&*()_+, ]+'\\nre.findall(patt, all_names)\", '_47': ['This', 'paragraph', 'has', 'a', 'lot', 'of', 'punctuations.Like', 'and', 'etc.', 'Let', 'us', 'remove', 'them', 'all'], '_i48': \"import re\\nall_names = 'This paragraph has a lot of punctuations.Like @ ,#,$ and & etc. Let us remove them all'\\npatt =  '[^!@#$%&*()_+,. ]+'\\nre.findall(patt, all_names)\", '_48': ['This', 'paragraph', 'has', 'a', 'lot', 'of', 'punctuations', 'Like', 'and', 'etc', 'Let', 'us', 'remove', 'them', 'all'], '_i49': \"import re\\nall_names = 'This paragraph has a lot of punctuations.Like @ ,#,$ and & etc. Let us remove them all'\\npatt =  '[^!@#$%&*()_+,. ]+' #Check ofr matches that are not all the symbols between ^ and ]\\nre.findall(patt, all_names)\", '_49': ['This', 'paragraph', 'has', 'a', 'lot', 'of', 'punctuations', 'Like', 'and', 'etc', 'Let', 'us', 'remove', 'them', 'all'], '_i50': 'name = input(\"Enter your name: \")\\nprint(\"Your name is : \")\\nprint(name)', 'name': 'Tawqeer ul islam', '_i51': 'marks = int(input(\"Enter Your marks : \"))\\nper  = (marks /500)*100\\nprint(\"You Scored \")\\nprint(per)\\nprint(\"%\")', 'marks': [450, 364, 459, 421, 399, 234], 'per': <function per at 0x0000000004B4BBF8>, '_i52': 'print(\"hello my name is : {x}\".format(x=\\'Tawqeer ul Islam\\'))', '_i53': 'print(\"Hello My Name is : %s  \" %(\\'Tawqeer\\'))', '_i54': 'print(\"You have Scored %20.3f \\\\n%36.3f\" %(22.2,33.3))', '_i55': 'print(\"%s is elder brother of %s \" %(\\'Tawqeer\\',\\'Naveed\\'))', '_i56': 'print(\"{a} is elder brother of {n}.{a}\\'s age is 22 and {n}\\'s age is 16\" .format(a=\"Tawqeer\",n=\"Naveed\"))', '_i57': 'my_list = [\"hello\", 20, \"Sangas\"]', 'my_list': ['hello', 20, 'list'], '_i58': 'print(my_list)', '_i59': 'my_list[2]', '_59': 'Sangas', '_i60': 'my_list[::-1]', '_60': ['Sangas', 20, 'hello'], '_i61': 'my_list.append(\"list\")', '_i62': 'my_list', '_62': ['hello', 20, 'list'], '_i63': 'my_list.pop(-2)', '_63': 'Sangas', '_i64': 'my_dict = {}', 'my_dict': {'k1': 'Taqbi', 'k2': 143, 'k3': 2.0, 'address': 'Sangas'}, '_i65': \"my_dict = {'k1':'Taqbi','k2':123,'k3':2.0}\", '_i66': \"my_dict['k1']\", '_66': 'Taqbi', '_i67': \"my_dict['k2']+=20\", '_i68': \"my_dict['k2']\", '_68': 143, '_i69': 'my_dict.keys()', '_69': dict_keys(['k1', 'k2', 'k3', 'address']), '_i70': 'my_dict.values()', '_70': dict_values(['Taqbi', 143, 2.0, 'Sangas']), '_i71': 'my_dict.items()', '_71': dict_items([('k1', 'Taqbi'), ('k2', 143), ('k3', 2.0), ('address', 'Sangas')]), '_i72': \"my_dict['address'] = 'Sangas'\", '_i73': 'my_dict.items()', '_73': dict_items([('k1', 'Taqbi'), ('k2', 143), ('k3', 2.0), ('address', 'Sangas')]), '_i74': 'my_dict', '_74': {'k1': 'Taqbi', 'k2': 143, 'k3': 2.0, 'address': 'Sangas'}, '_i75': \"my_dict['k1'][::-1]\", '_75': 'ibqaT', '_i76': \"dict = {1:{2:{3:'hello'}}}\", 'dict': {1: {2: {3: 'hello'}}}, '_i77': 'message = dict[1][2][3]', 'message': 'hello', '_i78': 'print(message)', '_i79': \"dict[4] = 'kulgam'\", '_i80': 'dict.update()', '_i81': 'dict.pop(4)', '_81': 'kulgam', '_i82': 'dict', '_82': {1: {2: {3: 'hello'}}}, '_i83': 'dict', '_83': {1: {2: {3: 'hello'}}}, '_i84': \"t =  ('hello',12)\", 't': ('hello', 12), '_i85': 't[1]', '_85': 12, '_i86': 't[1] +1', '_86': 13, '_i87': 't.count(1)', '_87': 0, '_i88': 't.count(12)', '_88': 1, '_i89': \"t.index('hello')\", '_89': 0, '_i90': '%%writefile a.txt\\n\"Hello There\"', '_i91': \"a = open('a.txt')\\na.read()\", 'a': <map object at 0x0000000004C53CF8>, '_91': '\"Hello There\"', '_i92': 'a.read()', '_92': '', '_i93': 'a.seek(0)', '_93': 0, '_i94': 'a.readlines()', '_94': ['\"Hello There\"'], '_i95': 'x = set()', 'x': {1, 2, 4, 5}, '_i96': 'x.add(2)', '_i97': 'x', '_97': set(), '_i98': 'x.pop()', '_98': 2, '_i99': 'l = [5,2,1,2,4,5]\\nx = set(l)\\nprint(x)\\nprint(l)', 'l': [5, 6, 7, 8, 10], '_i100': 'b = True', 'b': 3, '_i101': 'b = 2>5\\nprint(b)\\nb = None\\nprint(b)', '_i102': '#Chain COmparisions and use of AND, OR', '_i103': 'a = 2\\nb = 3\\nc = 5\\na < 2 and b > 4 ', 'c': 5, '_103': False, '_i104': 'b == 3 or c > 3', '_104': True, '_i105': 'a = 2\\ns = \\'hello\\'\\nif s == 10:\\n    print(\"a is greater than 1\")\\nelif False:\\n    print(\"This one is also executed\")\\nelif s is \\'Hello\\':\\n    print(\" S is Hello\")\\nelse:\\n    print(\"Else is executed\")\\n    ', 's': 'This is a global variable ', '_i106': 'l = [5,6,7,8,10]\\nfor i in l:\\n    print(i)', 'i': 2, '_i107': 'tup =  [(2,3),(4,3),(5,5)]\\nfor (t1,t2) in tup:\\n    print(\"t1 = {x1}  t2 = {x2}\".format(x1 = t1,x2 = t2))', 'tup': [(2, 3), (4, 3), (5, 5)], 't1': 5, 't2': 5, '_i108': 'dic = {\\' k1\\':1,\\'k2\\':2,\\'k3\\':3}\\nfor i,j in dic.items():\\n    print(\"{a},{b}\".format(a=i,b=j))', 'dic': {' k1': 1, 'k2': 2, 'k3': 3}, 'j': 3, '_i109': 'import math\\ndef check_prime(n):\\n    if n % 2 == 0:\\n        print(\"{a} is not prime.\".format(a = n))\\n        return\\n    for i in range(3, int(math.sqrt(n))+1, 2):\\n        if n%i==0:\\n            print(\"{a} is not prime.\".format(a = n))\\n            break\\n    else:\\n        print(\"{a} is prime\".format(a = n))\\n        ', 'math': <module 'math' (built-in)>, 'check_prime': <function check_prime at 0x0000000004C31C80>, '_i110': 'check_prime(397)', '_i111': 'mul_5 = lambda x: x*5', 'mul_5': <function <lambda> at 0x0000000004C31D90>, '_i112': 'mul_5(4)', '_112': 20, '_i113': 'mul_5(\"Hey! I want to multiply this string by 5. \")', '_113': 'Hey! I want to multiply this string by 5. Hey! I want to multiply this string by 5. Hey! I want to multiply this string by 5. Hey! I want to multiply this string by 5. Hey! I want to multiply this string by 5. ', '_i114': 'length = lambda string: len(string)', 'length': <function <lambda> at 0x0000000004C311E0>, '_i115': 'length(\"Can you calculate the number of characters i contain?\")', '_115': 53, '_i116': 'import math\\nhcf = lambda x,y: math.gcd(x,y)\\nhcf(368268,682686)\\n    ', 'hcf': <function <lambda> at 0x0000000004C29378>, '_116': 6, '_i117': 'class Student(object):\\n    college = \"NITJ\"\\n    \\n    def __init__(self,r,n,g):\\n        self.roll_no = r\\n        self.name = n\\n        self.gender = g ', 'Student': <class '__main__.Student'>, '_i118': 's1 = Student(1,\"SAM\",\"male\")\\ns2 = Student(2, \"Taq\", \"male\")', 's1': <__main__.Student object at 0x0000000004C48160>, 's2': <__main__.Student object at 0x0000000004C48278>, '_i119': 'print(\"Student 1 data : {a}  {b}  {c} \".format(a = s1.roll_no, b = s1.name, c = s1.gender))\\nprint(\"Student 2 data : {a}  {b}  {c} \".format(a = s2.roll_no, b = s2.name, c = s2.gender))', '_i120': 'class Room(object):\\n    #class object attribute\\n    height = 12\\n    def  __init__(self,l,b):\\n        self.len = l\\n        self.bre = b\\n    def area(self):\\n        return (self.len)*(self.bre)\\n    def vol(self):\\n        v = Room.height * self.area()\\n        return v\\n        \\n        ', 'Room': <class '__main__.Room'>, '_i121': 'r1 = Room(12,14)\\nr2 = Room(10,15)', 'r1': <__main__.Room object at 0x0000000004C484E0>, 'r2': <__main__.Room object at 0x0000000004C48400>, '_i122': 'r1.area()', '_122': 168, '_i123': 'r1.vol()', '_123': 2016, '_i124': 'r2.area()', '_124': 150, '_i125': 'r2.vol()', '_125': 1800, '_i126': '#Creating the animal class\\nclass Animal(object):\\n    def __init__():\\n        print(\"I am an Animal\")\\n    def eats(self):\\n        print(\"Food\")\\n#Creating the dog class\\nclass Dog(Animal):\\n    def __init__(self):\\n        #Animal.__init__(self)\\n        print(\" called dog\")\\n    def bark(self):\\n        print(\"Whoooo Whoooo\")\\n    def eats(self):\\n        Animal.eats(self)\\n        print(\"called dog food\")\\n#Creating objects\\nd1 = Dog()\\nd1.bark()\\nd1.eats()\\n        \\n        ', 'Animal': <class '__main__.Animal'>, 'Dog': <class '__main__.Dog'>, 'd1': {'z': 1, 'x': 2}, '_i127': 'class Book(object):\\n    def __init__(self,n,a,p):\\n        self.name = n\\n        self.author= a\\n        self.pages = p\\n        print(\"Book created\")\\n    \\n    #Special method for printing object\\n    def __str__(self):\\n        return(\"Name : %s, Author : %s, pages  : %s \"%(self.name,self.author,self.pages))\\n\\nobj = Book(\"python\",\"Taq bi\",120)\\nprint(obj)', 'Book': <class '__main__.Book'>, 'obj': <__main__.Book object at 0x0000000004C53BA8>, '_i128': 'try:\\n    2 +\"hello\"\\nexcept TypeError:\\n    print(\"There is a type Error\")\\nfinally:\\n    print(\"Finally always gets executed\")', '_i129': 'try:\\n    f = open(\"filename\",\"w\")  #A file of the anme filenmae will be created and opened in write mode\\n    f.write(\"Hello there,I am writing to the file\")\\nexcept:\\n    print(\"Writing to the File Unsuccesful\")\\nelse:\\n    print(\"File wriiten Succesful\")', 'f': <_io.TextIOWrapper name='filename' mode='r' encoding='cp1252'>, '_i130': 'try:\\n    f = open(\"filename\",\"r\")  #Here we are opening the file in read mode\\n    f.write(\"Hello there,I am writing to the file\")\\nexcept IOError:\\n    print(\"Writing to the File Unsuccesful\")\\n\\nelse:\\n    print(\"File wriiten Succesful\")', '_i131': 'while True:\\n    try:\\n        num = int(input(\"Enter an Integer : \"))\\n    except:\\n        print(\"Please enter an Integer : \")\\n        continue\\n    else:\\n        print(\"Integer Entered is : %s\"%(num) )\\n        break\\n    \\n    ', 'num': 45, '_i132': 'import math\\nmath.sqrt(5.22)', '_132': 2.2847319317591723, '_i133': 'from math import sqrt\\nsqrt(452)', 'sqrt': <built-in function sqrt>, '_133': 21.2602916254693, '_i134': 'def per(m):\\n    return m/500*100\\nmarks = [450,364,459,421,399,234]\\nres = map(per,marks)\\nprint(list(res))', 'res': <zip object at 0x0000000004C55E88>, '_i135': 'a = map(lambda m: m/500*100,marks)', '_i136': 'from functools import reduce\\ndef sum(x,y):\\n    return x+y\\ncosts = [20,25,21,32,55,56]\\nreduce(sum,costs)', 'reduce': <built-in function reduce>, 'sum': <function sum at 0x0000000004C54268>, 'costs': [20, 25, 21, 32, 55, 56], '_136': 209, '_i137': 'from IPython.display import Image\\nImage(r\"E:\\\\Pictures\\\\Kashmir as it was\\\\4th Bridge Srinagar 1911 Kashmir...jpg\")', 'Image': <class 'IPython.core.display.Image'>, '_137': <IPython.core.display.Image object>, '_i138': 'lst = [2,3,9,45,24,63,90,55]\\ndef isEven(m):\\n    if m%2 is 0: \\n        return True\\n    else:\\n        return False\\nres = filter(isEven,lst)\\nprint(list(res))', 'lst': [True, True, True], 'isEven': <function isEven at 0x0000000004C54BF8>, '_i139': 'l1 = [1,3,5,7]\\nl2 = [2,4,6,8]\\nres = zip(l1,l2)\\nprint(list(res))', 'l1': [1, 3, 5, 7], 'l2': [2, 4, 6, 8], '_i140': 'd1 ={\\'z\\':1,\"x\":2}\\nd2 = {\\'a\\':5,\\'b\\':7}\\nres = zip(d1,d2)\\nprint(list(res))', 'd2': {'a': 5, 'b': 7}, '_i141': 'lst = [\\'Tawqeer\\', \\'Aabid\\',\\'Gazi\\']\\nfor i,item in enumerate(lst):\\n    print(\"{a} is at {b}\".format(a = item,b = i))', 'item': 'Gazi', '_i142': 'lst = [True,True,True]\\nfal = [True,True,False]\\nprint(all(lst))\\nprint(all(fal))\\nprint(any(fal))', 'fal': [True, True, False], '_i143': 'complex(2,5)', '_143': (2+5j), '_i144': \"complex('5+2j')\", '_144': (5+2j), '_i145': 's = \"This is a global variable \"\\ndef fun():\\n    print(locals())\\n    \\nfun()', 'fun': <function fun at 0x0000000004C3A048>, '_i146': 'print(globals())'}\n"
     ]
    }
   ],
   "source": [
    "print(globals())"
   ]
  },
  {
   "cell_type": "code",
   "execution_count": 147,
   "metadata": {},
   "outputs": [
    {
     "name": "stdout",
     "output_type": "stream",
     "text": [
      "dict_keys(['__name__', '__doc__', '__package__', '__loader__', '__spec__', '__builtin__', '__builtins__', '_ih', '_oh', '_dh', 'In', 'Out', 'get_ipython', 'exit', 'quit', '_', '__', '___', '_i', '_ii', '_iii', '_i1', 're', '_i2', 'pattern', 'text', '_2', '_i3', '_3', '_i4', '_i5', '_i6', 'all_names', 'names', '_i7', '_i8', '_i9', '_i10', '_i11', '_i12', '_i13', '_i14', '_i15', '_i16', '_i17', '_i18', '_i19', '_i20', '_i21', '_i22', '_i23', '_i24', 'patt', '_i25', '_i26', '_i27', '_i28', '_i29', '_i30', '_i31', '_i32', '_i33', '_i34', '_i35', '_i36', '_i37', '_i38', '_i39', '_i40', '_i41', '_41', '_i42', '_42', '_i43', '_i44', '_i45', '_45', '_i46', '_46', '_i47', '_47', '_i48', '_48', '_i49', '_49', '_i50', 'name', '_i51', 'marks', 'per', '_i52', '_i53', '_i54', '_i55', '_i56', '_i57', 'my_list', '_i58', '_i59', '_59', '_i60', '_60', '_i61', '_i62', '_62', '_i63', '_63', '_i64', 'my_dict', '_i65', '_i66', '_66', '_i67', '_i68', '_68', '_i69', '_69', '_i70', '_70', '_i71', '_71', '_i72', '_i73', '_73', '_i74', '_74', '_i75', '_75', '_i76', 'dict', '_i77', 'message', '_i78', '_i79', '_i80', '_i81', '_81', '_i82', '_82', '_i83', '_83', '_i84', 't', '_i85', '_85', '_i86', '_86', '_i87', '_87', '_i88', '_88', '_i89', '_89', '_i90', '_i91', 'a', '_91', '_i92', '_92', '_i93', '_93', '_i94', '_94', '_i95', 'x', '_i96', '_i97', '_97', '_i98', '_98', '_i99', 'l', '_i100', 'b', '_i101', '_i102', '_i103', 'c', '_103', '_i104', '_104', '_i105', 's', '_i106', 'i', '_i107', 'tup', 't1', 't2', '_i108', 'dic', 'j', '_i109', 'math', 'check_prime', '_i110', '_i111', 'mul_5', '_i112', '_112', '_i113', '_113', '_i114', 'length', '_i115', '_115', '_i116', 'hcf', '_116', '_i117', 'Student', '_i118', 's1', 's2', '_i119', '_i120', 'Room', '_i121', 'r1', 'r2', '_i122', '_122', '_i123', '_123', '_i124', '_124', '_i125', '_125', '_i126', 'Animal', 'Dog', 'd1', '_i127', 'Book', 'obj', '_i128', '_i129', 'f', '_i130', '_i131', 'num', '_i132', '_132', '_i133', 'sqrt', '_133', '_i134', 'res', '_i135', '_i136', 'reduce', 'sum', 'costs', '_136', '_i137', 'Image', '_137', '_i138', 'lst', 'isEven', '_i139', 'l1', 'l2', '_i140', 'd2', '_i141', 'item', '_i142', 'fal', '_i143', '_143', '_i144', '_144', '_i145', 'fun', '_i146', '_i147'])\n"
     ]
    }
   ],
   "source": [
    "print(globals().keys())"
   ]
  },
  {
   "cell_type": "code",
   "execution_count": 148,
   "metadata": {},
   "outputs": [
    {
     "name": "stdout",
     "output_type": "stream",
     "text": [
      "This is a global variable \n"
     ]
    }
   ],
   "source": [
    "print(globals()['s'])"
   ]
  },
  {
   "cell_type": "code",
   "execution_count": 149,
   "metadata": {},
   "outputs": [
    {
     "name": "stdout",
     "output_type": "stream",
     "text": [
      "My name is Taq Bi\n"
     ]
    }
   ],
   "source": [
    "def fun1(name = \"Taq Bi\"):\n",
    "    print(\"My name is \"+name)\n",
    "fun1()    "
   ]
  },
  {
   "cell_type": "code",
   "execution_count": 150,
   "metadata": {},
   "outputs": [
    {
     "name": "stdout",
     "output_type": "stream",
     "text": [
      "My name is Taq Bi\n"
     ]
    }
   ],
   "source": [
    "temp = fun1\n",
    "temp()"
   ]
  },
  {
   "cell_type": "code",
   "execution_count": 151,
   "metadata": {},
   "outputs": [],
   "source": [
    "del fun1"
   ]
  },
  {
   "cell_type": "code",
   "execution_count": 153,
   "metadata": {},
   "outputs": [
    {
     "ename": "NameError",
     "evalue": "name 'fun1' is not defined",
     "output_type": "error",
     "traceback": [
      "\u001b[1;31m---------------------------------------------------------------------------\u001b[0m",
      "\u001b[1;31mNameError\u001b[0m                                 Traceback (most recent call last)",
      "\u001b[1;32m<ipython-input-153-c007234036e7>\u001b[0m in \u001b[0;36m<module>\u001b[1;34m()\u001b[0m\n\u001b[1;32m----> 1\u001b[1;33m \u001b[0mfun1\u001b[0m\u001b[1;33m(\u001b[0m\u001b[1;33m)\u001b[0m\u001b[1;33m\u001b[0m\u001b[0m\n\u001b[0m",
      "\u001b[1;31mNameError\u001b[0m: name 'fun1' is not defined"
     ]
    }
   ],
   "source": [
    "fun1()"
   ]
  },
  {
   "cell_type": "code",
   "execution_count": 154,
   "metadata": {},
   "outputs": [
    {
     "name": "stdout",
     "output_type": "stream",
     "text": [
      "Inside the hello() function\n",
      "\t Inside the greet() function\n",
      "\t Inside the welcome function\n",
      "Back to hello() Function\n"
     ]
    }
   ],
   "source": [
    "#Defining a function within another function\n",
    "def hello(name = \"Taq bi\"):\n",
    "    print(\"Inside the hello() function\")\n",
    "    \n",
    "    def greet():\n",
    "        return \"\\t Inside the greet() function\"\n",
    "    def welcome():\n",
    "        return \"\\t Inside the welcome function\"\n",
    "    print(greet())\n",
    "    print(welcome())\n",
    "    print(\"Back to hello() Function\")\n",
    "hello()"
   ]
  },
  {
   "cell_type": "code",
   "execution_count": 155,
   "metadata": {},
   "outputs": [
    {
     "ename": "NameError",
     "evalue": "name 'welcome' is not defined",
     "output_type": "error",
     "traceback": [
      "\u001b[1;31m---------------------------------------------------------------------------\u001b[0m",
      "\u001b[1;31mNameError\u001b[0m                                 Traceback (most recent call last)",
      "\u001b[1;32m<ipython-input-155-b6e3d97bbc68>\u001b[0m in \u001b[0;36m<module>\u001b[1;34m()\u001b[0m\n\u001b[1;32m----> 1\u001b[1;33m \u001b[0mwelcome\u001b[0m\u001b[1;33m(\u001b[0m\u001b[1;33m)\u001b[0m \u001b[1;31m# This willthrow an error because the scope of the welcome function is within the hello function\u001b[0m\u001b[1;33m\u001b[0m\u001b[0m\n\u001b[0m",
      "\u001b[1;31mNameError\u001b[0m: name 'welcome' is not defined"
     ]
    }
   ],
   "source": [
    "welcome() # This willthrow an error because the scope of the welcome function is within the hello function"
   ]
  },
  {
   "cell_type": "code",
   "execution_count": 156,
   "metadata": {},
   "outputs": [
    {
     "name": "stdout",
     "output_type": "stream",
     "text": [
      "Inside the hello() function\n"
     ]
    }
   ],
   "source": [
    "#Defining a function within another function\n",
    "def hello(name = \"Taq bi\"):\n",
    "    print(\"Inside the hello() function\")\n",
    "    \n",
    "    def greet():\n",
    "        return \" \\t Inside the greet() function\"\n",
    "    def welcome():\n",
    "        return \"\\t Inside the welcome function\"\n",
    "\n",
    "    if name is 'Taq bi':\n",
    "        return greet      #here we are returning the variable greet and not the function\n",
    "    else :\n",
    "        return welcome\n",
    "    \n",
    "x = hello()"
   ]
  },
  {
   "cell_type": "code",
   "execution_count": 157,
   "metadata": {},
   "outputs": [
    {
     "data": {
      "text/plain": [
       "'\\t Inside the welcome function'"
      ]
     },
     "execution_count": 157,
     "metadata": {},
     "output_type": "execute_result"
    }
   ],
   "source": [
    "x()"
   ]
  },
  {
   "cell_type": "code",
   "execution_count": 158,
   "metadata": {},
   "outputs": [],
   "source": [
    "#Passing a function a function as an argument to the function \n",
    "def hello(func):\n",
    "    print(\"Inside the hello() function\")\n",
    "    func()\n",
    "    print(\"After the fun()\")\n",
    "def func():\n",
    "    print(\"Inside the func()\")\n",
    "    "
   ]
  },
  {
   "cell_type": "code",
   "execution_count": 159,
   "metadata": {},
   "outputs": [
    {
     "name": "stdout",
     "output_type": "stream",
     "text": [
      "Inside the hello() function\n",
      "Inside the func()\n",
      "After the fun()\n"
     ]
    }
   ],
   "source": [
    "func = hello(func)"
   ]
  },
  {
   "cell_type": "code",
   "execution_count": 160,
   "metadata": {},
   "outputs": [
    {
     "name": "stdout",
     "output_type": "stream",
     "text": [
      "Inside the hello() function\n",
      "We are Inside the func()\n",
      "After the fun()\n"
     ]
    }
   ],
   "source": [
    "#Normal way to use the decorators\n",
    "@hello\n",
    "def func():\n",
    "    print(\"We are Inside the func()\")\n"
   ]
  },
  {
   "cell_type": "markdown",
   "metadata": {},
   "source": [
    "Generators,next and iter..................................................................."
   ]
  },
  {
   "cell_type": "code",
   "execution_count": 161,
   "metadata": {},
   "outputs": [
    {
     "name": "stdout",
     "output_type": "stream",
     "text": [
      "20\n",
      "20\n",
      "20\n",
      "20\n",
      "20\n",
      "20\n",
      "20\n",
      "20\n",
      "20\n",
      "20\n"
     ]
    }
   ],
   "source": [
    "def gen_fun(n):\n",
    "    for i in range(n):\n",
    "        yield n*2\n",
    "for x in gen_fun(10):\n",
    "    print(x)"
   ]
  },
  {
   "cell_type": "markdown",
   "metadata": {},
   "source": [
    "Collections.........................................................................."
   ]
  },
  {
   "cell_type": "markdown",
   "metadata": {},
   "source": [
    "Counter........................................................................................................................................"
   ]
  },
  {
   "cell_type": "code",
   "execution_count": 162,
   "metadata": {},
   "outputs": [
    {
     "data": {
      "text/plain": [
       "Counter({1: 6, 2: 10, 0: 3, 3: 3})"
      ]
     },
     "execution_count": 162,
     "metadata": {},
     "output_type": "execute_result"
    }
   ],
   "source": [
    "from collections import Counter\n",
    "l = [1,1,1,2,1,2,2,1,1,2,2,2,0,0,2,2,2,3,3,3,0,2]\n",
    "Counter(l)"
   ]
  },
  {
   "cell_type": "code",
   "execution_count": 163,
   "metadata": {},
   "outputs": [
    {
     "data": {
      "text/plain": [
       "Counter({'H': 1,\n",
       "         'e': 12,\n",
       "         'l': 5,\n",
       "         'o': 4,\n",
       "         ' ': 17,\n",
       "         't': 10,\n",
       "         'h': 4,\n",
       "         'r': 5,\n",
       "         '!': 1,\n",
       "         'W': 1,\n",
       "         'a': 5,\n",
       "         'i': 4,\n",
       "         's': 4,\n",
       "         'y': 2,\n",
       "         'u': 3,\n",
       "         'n': 6,\n",
       "         'm': 3,\n",
       "         '.': 1,\n",
       "         'I': 1,\n",
       "         'g': 1,\n",
       "         'c': 3,\n",
       "         'b': 1,\n",
       "         'f': 1})"
      ]
     },
     "execution_count": 163,
     "metadata": {},
     "output_type": "execute_result"
    }
   ],
   "source": [
    "s = \"Hello there! What is your name. I am trying to calculate the number of letters in this sentence\"\n",
    "Counter(s)\n"
   ]
  },
  {
   "cell_type": "code",
   "execution_count": 164,
   "metadata": {},
   "outputs": [
    {
     "data": {
      "text/plain": [
       "[(' ', 17),\n",
       " ('e', 12),\n",
       " ('t', 10),\n",
       " ('n', 6),\n",
       " ('l', 5),\n",
       " ('r', 5),\n",
       " ('a', 5),\n",
       " ('o', 4),\n",
       " ('h', 4),\n",
       " ('i', 4),\n",
       " ('s', 4),\n",
       " ('u', 3),\n",
       " ('m', 3),\n",
       " ('c', 3),\n",
       " ('y', 2),\n",
       " ('H', 1),\n",
       " ('!', 1),\n",
       " ('W', 1),\n",
       " ('.', 1),\n",
       " ('I', 1),\n",
       " ('g', 1),\n",
       " ('b', 1),\n",
       " ('f', 1)]"
      ]
     },
     "execution_count": 164,
     "metadata": {},
     "output_type": "execute_result"
    }
   ],
   "source": [
    "c =  Counter(s)\n",
    "c.most_common()"
   ]
  },
  {
   "cell_type": "code",
   "execution_count": 165,
   "metadata": {},
   "outputs": [
    {
     "data": {
      "text/plain": [
       "Counter({'Hello': 1,\n",
       "         'there!': 1,\n",
       "         'What': 1,\n",
       "         'is': 1,\n",
       "         'your': 1,\n",
       "         'name.': 1,\n",
       "         'I': 1,\n",
       "         'am': 1,\n",
       "         'trying': 1,\n",
       "         'to': 1,\n",
       "         'calculate': 1,\n",
       "         'the': 1,\n",
       "         'number': 1,\n",
       "         'of': 1,\n",
       "         'letters': 1,\n",
       "         'in': 1,\n",
       "         'this': 1,\n",
       "         'sentence': 1})"
      ]
     },
     "execution_count": 165,
     "metadata": {},
     "output_type": "execute_result"
    }
   ],
   "source": [
    "w = s.split()\n",
    "Counter(w)"
   ]
  },
  {
   "cell_type": "code",
   "execution_count": 166,
   "metadata": {},
   "outputs": [
    {
     "data": {
      "text/plain": [
       "[1, 1, 1, 1, 1, 1, 1, 1, 2, 3, 3, 3, 4, 4, 4, 4, 5, 5, 5, 6, 10, 12, 17]"
      ]
     },
     "execution_count": 166,
     "metadata": {},
     "output_type": "execute_result"
    }
   ],
   "source": [
    "l = list(c.values())\n",
    "l.sort()\n",
    "l"
   ]
  },
  {
   "cell_type": "markdown",
   "metadata": {},
   "source": [
    "2.DEFAULTDICT..................................."
   ]
  },
  {
   "cell_type": "code",
   "execution_count": 167,
   "metadata": {},
   "outputs": [],
   "source": [
    "from collections import defaultdict\n",
    "d = defaultdict(lambda : 0)\n"
   ]
  },
  {
   "cell_type": "code",
   "execution_count": 168,
   "metadata": {},
   "outputs": [
    {
     "data": {
      "text/plain": [
       "0"
      ]
     },
     "execution_count": 168,
     "metadata": {},
     "output_type": "execute_result"
    }
   ],
   "source": [
    "d['one']"
   ]
  },
  {
   "cell_type": "code",
   "execution_count": 169,
   "metadata": {},
   "outputs": [],
   "source": [
    "d['two'] = 2\n",
    "d['three'] = 3\n",
    "d['four'] = 4"
   ]
  },
  {
   "cell_type": "code",
   "execution_count": 170,
   "metadata": {},
   "outputs": [
    {
     "data": {
      "text/plain": [
       "0"
      ]
     },
     "execution_count": 170,
     "metadata": {},
     "output_type": "execute_result"
    }
   ],
   "source": [
    "d['six']"
   ]
  },
  {
   "cell_type": "code",
   "execution_count": 171,
   "metadata": {},
   "outputs": [
    {
     "data": {
      "text/plain": [
       "dict_values([0, 2, 3, 4, 0])"
      ]
     },
     "execution_count": 171,
     "metadata": {},
     "output_type": "execute_result"
    }
   ],
   "source": [
    "d.values()"
   ]
  },
  {
   "cell_type": "markdown",
   "metadata": {},
   "source": [
    "ORDEREDDICT MODULE.........................................................."
   ]
  },
  {
   "cell_type": "code",
   "execution_count": 172,
   "metadata": {},
   "outputs": [
    {
     "data": {
      "text/plain": [
       "True"
      ]
     },
     "execution_count": 172,
     "metadata": {},
     "output_type": "execute_result"
    }
   ],
   "source": [
    "from collections import OrderedDict\n",
    "d1 = {}\n",
    "d1['a'] = 1\n",
    "d1['b'] = 2\n",
    "d2 = {}\n",
    "d2['b'] = 2\n",
    "d2['a'] = 1\n",
    "d1 == d2"
   ]
  },
  {
   "cell_type": "code",
   "execution_count": 173,
   "metadata": {},
   "outputs": [
    {
     "data": {
      "text/plain": [
       "False"
      ]
     },
     "execution_count": 173,
     "metadata": {},
     "output_type": "execute_result"
    }
   ],
   "source": [
    "from collections import OrderedDict\n",
    "d1 = OrderedDict()\n",
    "d1['a'] = 1\n",
    "d1['b'] = 2\n",
    "d2 = OrderedDict()\n",
    "d2['b'] = 2\n",
    "d2['a'] = 1\n",
    "d1 == d2"
   ]
  },
  {
   "cell_type": "markdown",
   "metadata": {},
   "source": [
    "DATETIME MODULE................................................."
   ]
  },
  {
   "cell_type": "code",
   "execution_count": 174,
   "metadata": {},
   "outputs": [
    {
     "name": "stdout",
     "output_type": "stream",
     "text": [
      "02:50:01\n"
     ]
    },
    {
     "data": {
      "text/plain": [
       "datetime.time(23, 59, 59, 999999)"
      ]
     },
     "execution_count": 174,
     "metadata": {},
     "output_type": "execute_result"
    }
   ],
   "source": [
    "import datetime\n",
    "t = datetime.time(2,50,1)\n",
    "print(t)\n",
    "datetime.time.max\n"
   ]
  },
  {
   "cell_type": "markdown",
   "metadata": {},
   "source": [
    "REGULAR EXPESSIONS.........................................................................."
   ]
  },
  {
   "cell_type": "code",
   "execution_count": 175,
   "metadata": {},
   "outputs": [
    {
     "name": "stdout",
     "output_type": "stream",
     "text": [
      "['a', 'a', 'a', 'a', 'a', 'a', 'a', 'a', 'a', 'a']\n",
      "['Hi!', 'There', 'how', 'are', 'you', 'doing.', 'My', 'name', 'is', 'Jarvis', 'and', 'I', 'am', 'your', 'assistant', 'for', 'the', 'course.', 'Tell', 'me', 'if', 'you', 'have', 'any', 'problem', 'so', 'far']\n"
     ]
    }
   ],
   "source": [
    "import re \n",
    "pattern = \"a\"\n",
    "text = \"Hi! There how are you doing. My name is Jarvis and I am your assistant for the course. Tell me if you have any problem so far\"\n",
    "print(re.findall(pattern,text))\n",
    "print(re.split(' ',text))\n"
   ]
  },
  {
   "cell_type": "code",
   "execution_count": 176,
   "metadata": {},
   "outputs": [
    {
     "data": {
      "text/plain": [
       "['This',\n",
       " 'paragraph',\n",
       " 'has',\n",
       " 'a',\n",
       " 'lot',\n",
       " 'of',\n",
       " 'punctuations',\n",
       " 'Like',\n",
       " 'and',\n",
       " 'etc',\n",
       " 'Let',\n",
       " 'us',\n",
       " 'remove',\n",
       " 'them',\n",
       " 'all']"
      ]
     },
     "execution_count": 176,
     "metadata": {},
     "output_type": "execute_result"
    }
   ],
   "source": [
    "import re\n",
    "all_names = 'This paragraph has a lot of punctuations.Like @ ,#,$ and & etc. Let us remove them all'\n",
    "patt =  '[^!@#$%&*()_+,. ]+' #Check ofr matches that are not all the symbols between ^ and ]\n",
    "re.findall(patt, all_names)"
   ]
  },
  {
   "cell_type": "code",
   "execution_count": null,
   "metadata": {},
   "outputs": [],
   "source": []
  },
  {
   "cell_type": "code",
   "execution_count": null,
   "metadata": {},
   "outputs": [],
   "source": []
  }
 ],
 "metadata": {
  "kernelspec": {
   "display_name": "Python 3",
   "language": "python",
   "name": "python3"
  },
  "language_info": {
   "codemirror_mode": {
    "name": "ipython",
    "version": 3
   },
   "file_extension": ".py",
   "mimetype": "text/x-python",
   "name": "python",
   "nbconvert_exporter": "python",
   "pygments_lexer": "ipython3",
   "version": "3.6.5"
  }
 },
 "nbformat": 4,
 "nbformat_minor": 2
}
